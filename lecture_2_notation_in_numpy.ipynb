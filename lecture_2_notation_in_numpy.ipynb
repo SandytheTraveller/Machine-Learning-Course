{
 "cells": [
  {
   "cell_type": "code",
   "execution_count": 2,
   "outputs": [],
   "source": [
    "import numpy as np"
   ],
   "metadata": {
    "collapsed": false,
    "ExecuteTime": {
     "end_time": "2023-11-24T10:17:14.213147Z",
     "start_time": "2023-11-24T10:17:02.805206Z"
    }
   }
  },
  {
   "cell_type": "markdown",
   "source": [
    "## Scalar\n",
    "\n",
    "Numpy is the most important package for linear algebra, fast array - vector - operations and primitives.\n",
    "\n",
    "Unlike vector or matrices, in Numpy there is no specific data type for scalars, rather we use the standard data types for integer and float in Python.\n",
    "\n",
    "Object and name are separate. We just connect the name to the object."
   ],
   "metadata": {
    "collapsed": false
   }
  },
  {
   "cell_type": "code",
   "execution_count": 1,
   "outputs": [],
   "source": [
    "a = 3.5\n",
    "w = 10"
   ],
   "metadata": {
    "collapsed": false,
    "ExecuteTime": {
     "end_time": "2023-11-24T10:13:31.289877Z",
     "start_time": "2023-11-24T10:13:31.266905Z"
    }
   }
  },
  {
   "cell_type": "markdown",
   "source": [
    "## Vector\n",
    "\n",
    "To create a vector we use the array() function. By his function you can create any n-dimenaional arrays, e.g. matrix and tensors. Numpy uses a row representation for vector, the opposite w.r.t. the notation we used, but it is only a matter of transposing."
   ],
   "metadata": {
    "collapsed": false
   }
  },
  {
   "cell_type": "code",
   "execution_count": 6,
   "outputs": [
    {
     "data": {
      "text/plain": "array([1., 2., 3., 4., 5.])"
     },
     "execution_count": 6,
     "metadata": {},
     "output_type": "execute_result"
    }
   ],
   "source": [
    "w_vec = np.array([1, 2, 3, 4, 5.0]) # applying array function to a list\n",
    "w_vec"
   ],
   "metadata": {
    "collapsed": false,
    "ExecuteTime": {
     "end_time": "2023-11-24T10:19:02.664700Z",
     "start_time": "2023-11-24T10:19:02.637073Z"
    }
   }
  },
  {
   "cell_type": "markdown",
   "source": [
    "Since at least one of the scalars in the vector is a float, the dtype of the vector is float64, i.e. each element of the vector is a float."
   ],
   "metadata": {
    "collapsed": false
   }
  },
  {
   "cell_type": "code",
   "execution_count": 7,
   "outputs": [
    {
     "data": {
      "text/plain": "dtype('float64')"
     },
     "execution_count": 7,
     "metadata": {},
     "output_type": "execute_result"
    }
   ],
   "source": [
    "w_vec.dtype"
   ],
   "metadata": {
    "collapsed": false,
    "ExecuteTime": {
     "end_time": "2023-11-24T10:19:04.622293Z",
     "start_time": "2023-11-24T10:19:04.610230Z"
    }
   }
  },
  {
   "cell_type": "markdown",
   "source": [
    "An array is basically a list, so it supports most of the basic operations on list, e.g. indexing (selecting one element; each element has a position in the list, indexing starts from 0) and slicing (extension of indexing; we would like a sub vector of elements)."
   ],
   "metadata": {
    "collapsed": false
   }
  },
  {
   "cell_type": "code",
   "execution_count": 8,
   "outputs": [
    {
     "data": {
      "text/plain": "2.0"
     },
     "execution_count": 8,
     "metadata": {},
     "output_type": "execute_result"
    }
   ],
   "source": [
    "w_vec[1] # we are indexing the second element / second dimension of the vector w_vec"
   ],
   "metadata": {
    "collapsed": false,
    "ExecuteTime": {
     "end_time": "2023-11-24T10:20:40.843025Z",
     "start_time": "2023-11-24T10:20:40.825431Z"
    }
   }
  },
  {
   "cell_type": "code",
   "execution_count": 9,
   "outputs": [
    {
     "data": {
      "text/plain": "array([2., 3.])"
     },
     "execution_count": 9,
     "metadata": {},
     "output_type": "execute_result"
    }
   ],
   "source": [
    "w_vec[1:3] # we're taking a subvector starting from index 1 and ending at index 2 (included)"
   ],
   "metadata": {
    "collapsed": false,
    "ExecuteTime": {
     "end_time": "2023-11-24T10:23:53.893339Z",
     "start_time": "2023-11-24T10:23:53.875721Z"
    }
   }
  },
  {
   "cell_type": "markdown",
   "source": [
    "## Matrix\n",
    "\n",
    "The function array() can also create matrices intended as a 2-dimensional arrays with nested brackets. To create an n x d matrix, we must stack n row d dimensional vectors.\n",
    "\n",
    "Lists inside  a list"
   ],
   "metadata": {
    "collapsed": false
   }
  },
  {
   "cell_type": "code",
   "execution_count": 10,
   "outputs": [
    {
     "data": {
      "text/plain": "array([[1. , 4. , 7. ],\n       [4.9, 4. , 2. ]])"
     },
     "execution_count": 10,
     "metadata": {},
     "output_type": "execute_result"
    }
   ],
   "source": [
    "W = np.array([\n",
    "    [1, 4, 7],\n",
    "    [4.9, 4, 2]\n",
    "]) # 2 x 3 matrix\n",
    "W"
   ],
   "metadata": {
    "collapsed": false,
    "ExecuteTime": {
     "end_time": "2023-11-24T10:26:43.208667Z",
     "start_time": "2023-11-24T10:26:43.188253Z"
    }
   }
  },
  {
   "cell_type": "markdown",
   "source": [
    "To select a specific row with index j, we use the standard indexing and slicing operations. The same holds for selecting columns."
   ],
   "metadata": {
    "collapsed": false
   }
  },
  {
   "cell_type": "code",
   "execution_count": 11,
   "outputs": [
    {
     "data": {
      "text/plain": "(array([1., 4., 7.]), array([1., 4., 7.]))"
     },
     "execution_count": 11,
     "metadata": {},
     "output_type": "execute_result"
    }
   ],
   "source": [
    "W[0][:], W[0, :] # select row with index 0"
   ],
   "metadata": {
    "collapsed": false,
    "ExecuteTime": {
     "end_time": "2023-11-24T10:32:29.335301Z",
     "start_time": "2023-11-24T10:32:29.316084Z"
    }
   }
  },
  {
   "cell_type": "code",
   "execution_count": 13,
   "outputs": [
    {
     "data": {
      "text/plain": "array([4., 7.])"
     },
     "execution_count": 13,
     "metadata": {},
     "output_type": "execute_result"
    }
   ],
   "source": [
    "W[0,1:] # select first row without first element"
   ],
   "metadata": {
    "collapsed": false,
    "ExecuteTime": {
     "end_time": "2023-11-24T10:35:31.191424Z",
     "start_time": "2023-11-24T10:35:31.182234Z"
    }
   }
  },
  {
   "cell_type": "code",
   "execution_count": 14,
   "outputs": [
    {
     "data": {
      "text/plain": "array([[4., 7.],\n       [4., 2.]])"
     },
     "execution_count": 14,
     "metadata": {},
     "output_type": "execute_result"
    }
   ],
   "source": [
    "# submatrix\n",
    "\n",
    "W[:, 1:]"
   ],
   "metadata": {
    "collapsed": false,
    "ExecuteTime": {
     "end_time": "2023-11-24T10:36:28.850108Z",
     "start_time": "2023-11-24T10:36:28.843223Z"
    }
   }
  },
  {
   "cell_type": "code",
   "execution_count": 12,
   "outputs": [
    {
     "data": {
      "text/plain": "array([4., 4.])"
     },
     "execution_count": 12,
     "metadata": {},
     "output_type": "execute_result"
    }
   ],
   "source": [
    "W[:, 1] # select column with index 1"
   ],
   "metadata": {
    "collapsed": false,
    "ExecuteTime": {
     "end_time": "2023-11-24T10:32:49.819718Z",
     "start_time": "2023-11-24T10:32:49.800805Z"
    }
   }
  },
  {
   "cell_type": "markdown",
   "source": [
    "## Shape\n",
    "\n",
    "The shape of an array returns the number of scalars for each dimension. You can access the shape of an array by the attribute shape."
   ],
   "metadata": {
    "collapsed": false
   }
  },
  {
   "cell_type": "code",
   "execution_count": 15,
   "outputs": [
    {
     "data": {
      "text/plain": "((2, 3), (5,))"
     },
     "execution_count": 15,
     "metadata": {},
     "output_type": "execute_result"
    }
   ],
   "source": [
    "W.shape, w_vec.shape"
   ],
   "metadata": {
    "collapsed": false,
    "ExecuteTime": {
     "end_time": "2023-11-24T10:38:18.812536Z",
     "start_time": "2023-11-24T10:38:18.793613Z"
    }
   }
  },
  {
   "cell_type": "markdown",
   "source": [
    "## Transpose\n",
    "\n",
    "The transpose of a vector or matrix can be obtained by the operator T."
   ],
   "metadata": {
    "collapsed": false
   }
  },
  {
   "cell_type": "code",
   "execution_count": 16,
   "outputs": [
    {
     "data": {
      "text/plain": "array([[1. , 4.9],\n       [4. , 4. ],\n       [7. , 2. ]])"
     },
     "execution_count": 16,
     "metadata": {},
     "output_type": "execute_result"
    }
   ],
   "source": [
    "W_T = W.T\n",
    "W_T"
   ],
   "metadata": {
    "collapsed": false,
    "ExecuteTime": {
     "end_time": "2023-11-24T10:39:08.732371Z",
     "start_time": "2023-11-24T10:39:08.708632Z"
    }
   }
  },
  {
   "cell_type": "code",
   "execution_count": 17,
   "outputs": [
    {
     "data": {
      "text/plain": "((2, 3), (3, 2))"
     },
     "execution_count": 17,
     "metadata": {},
     "output_type": "execute_result"
    }
   ],
   "source": [
    "W.shape, W_T.shape"
   ],
   "metadata": {
    "collapsed": false,
    "ExecuteTime": {
     "end_time": "2023-11-24T10:39:49.949536Z",
     "start_time": "2023-11-24T10:39:49.908932Z"
    }
   }
  },
  {
   "cell_type": "markdown",
   "source": [
    "## Operations on Vectors and Matrices\n",
    "\n",
    "The corresponding operators in Numpy:\n",
    "\n",
    "- Summing two vectors: x+y\n",
    "- Vectors multiplied by a scalar: a * x\n",
    "- Inner-product or dot-product: x.dot(y) or np.dot(x, y)\n",
    "- Hadamard product of vectors: x * y"
   ],
   "metadata": {
    "collapsed": false
   }
  },
  {
   "cell_type": "code",
   "execution_count": 18,
   "outputs": [
    {
     "data": {
      "text/plain": "array([ 7,  9, 11, 13])"
     },
     "execution_count": 18,
     "metadata": {},
     "output_type": "execute_result"
    }
   ],
   "source": [
    "x_vec, y_vec = np.array([1, 2, 3, 4]), np.array([6, 7, 8, 9])\n",
    "\n",
    "x_vec + y_vec"
   ],
   "metadata": {
    "collapsed": false,
    "ExecuteTime": {
     "end_time": "2023-11-24T10:48:08.179089Z",
     "start_time": "2023-11-24T10:48:08.158346Z"
    }
   }
  },
  {
   "cell_type": "code",
   "execution_count": 20,
   "outputs": [
    {
     "data": {
      "text/plain": "array([3, 4, 5, 6])"
     },
     "execution_count": 20,
     "metadata": {},
     "output_type": "execute_result"
    }
   ],
   "source": [
    "# vector and scalar sum\n",
    "\n",
    "x_vec + 2"
   ],
   "metadata": {
    "collapsed": false,
    "ExecuteTime": {
     "end_time": "2023-11-24T10:49:09.792276Z",
     "start_time": "2023-11-24T10:49:09.779883Z"
    }
   }
  },
  {
   "cell_type": "code",
   "execution_count": 19,
   "outputs": [
    {
     "data": {
      "text/plain": "array([ 3.5,  7. , 10.5, 14. ])"
     },
     "execution_count": 19,
     "metadata": {},
     "output_type": "execute_result"
    }
   ],
   "source": [
    "a * x_vec"
   ],
   "metadata": {
    "collapsed": false,
    "ExecuteTime": {
     "end_time": "2023-11-24T10:48:17.524769Z",
     "start_time": "2023-11-24T10:48:17.499079Z"
    }
   }
  },
  {
   "cell_type": "code",
   "execution_count": 22,
   "outputs": [
    {
     "data": {
      "text/plain": "(80, 80)"
     },
     "execution_count": 22,
     "metadata": {},
     "output_type": "execute_result"
    }
   ],
   "source": [
    "x_vec.dot(y_vec), np.dot(x_vec, y_vec)"
   ],
   "metadata": {
    "collapsed": false,
    "ExecuteTime": {
     "end_time": "2023-11-24T10:50:16.565456Z",
     "start_time": "2023-11-24T10:50:16.550678Z"
    }
   }
  },
  {
   "cell_type": "code",
   "execution_count": 23,
   "outputs": [
    {
     "data": {
      "text/plain": "array([ 6, 14, 24, 36])"
     },
     "execution_count": 23,
     "metadata": {},
     "output_type": "execute_result"
    }
   ],
   "source": [
    "x_vec * y_vec"
   ],
   "metadata": {
    "collapsed": false,
    "ExecuteTime": {
     "end_time": "2023-11-24T10:50:25.034699Z",
     "start_time": "2023-11-24T10:50:24.989560Z"
    }
   }
  },
  {
   "cell_type": "markdown",
   "source": [
    "-> Must check dimensions when doing multiplication!"
   ],
   "metadata": {
    "collapsed": false
   }
  },
  {
   "cell_type": "markdown",
   "source": [
    "Here the corresponding poerator in numpy:\n",
    "- Multiplying a matrix by a vector: M.dot(x) or M @ x\n",
    "- Multipying two matrixes: np.dot(M1, M2) or M1 @ M2"
   ],
   "metadata": {
    "collapsed": false
   }
  },
  {
   "cell_type": "code",
   "execution_count": 24,
   "outputs": [],
   "source": [
    "A = np.array([\n",
    "    [1, 0, 1],\n",
    "    [0, 2, 1]\n",
    "])"
   ],
   "metadata": {
    "collapsed": false,
    "ExecuteTime": {
     "end_time": "2023-11-24T10:52:56.448077Z",
     "start_time": "2023-11-24T10:52:56.420115Z"
    }
   }
  },
  {
   "cell_type": "code",
   "execution_count": 25,
   "outputs": [
    {
     "data": {
      "text/plain": "array([13. , 15.8])"
     },
     "execution_count": 25,
     "metadata": {},
     "output_type": "execute_result"
    }
   ],
   "source": [
    "W @ np.array([2, 1, 1]) # shape of W is (2, 3) and the shape of vector is (3, 1)"
   ],
   "metadata": {
    "collapsed": false,
    "ExecuteTime": {
     "end_time": "2023-11-24T10:53:10.777611Z",
     "start_time": "2023-11-24T10:53:10.750531Z"
    }
   }
  },
  {
   "cell_type": "code",
   "execution_count": 26,
   "outputs": [
    {
     "data": {
      "text/plain": "((2, 3), (2, 3))"
     },
     "execution_count": 26,
     "metadata": {},
     "output_type": "execute_result"
    }
   ],
   "source": [
    "W.shape, A.shape"
   ],
   "metadata": {
    "collapsed": false,
    "ExecuteTime": {
     "end_time": "2023-11-24T10:53:46.701243Z",
     "start_time": "2023-11-24T10:53:46.662065Z"
    }
   }
  },
  {
   "cell_type": "code",
   "execution_count": 27,
   "outputs": [
    {
     "data": {
      "text/plain": "array([[ 8. , 15. ],\n       [ 6.9, 10. ]])"
     },
     "execution_count": 27,
     "metadata": {},
     "output_type": "execute_result"
    }
   ],
   "source": [
    "W @ A.T"
   ],
   "metadata": {
    "collapsed": false,
    "ExecuteTime": {
     "end_time": "2023-11-24T10:53:54.698143Z",
     "start_time": "2023-11-24T10:53:54.653690Z"
    }
   }
  },
  {
   "cell_type": "code",
   "execution_count": 28,
   "outputs": [
    {
     "data": {
      "text/plain": "array([[1. , 9.8, 5.9],\n       [4. , 8. , 8. ],\n       [7. , 4. , 9. ]])"
     },
     "execution_count": 28,
     "metadata": {},
     "output_type": "execute_result"
    }
   ],
   "source": [
    "W.T @ A"
   ],
   "metadata": {
    "collapsed": false,
    "ExecuteTime": {
     "end_time": "2023-11-24T10:56:10.451523Z",
     "start_time": "2023-11-24T10:56:10.420358Z"
    }
   }
  },
  {
   "cell_type": "code",
   "execution_count": 29,
   "outputs": [
    {
     "ename": "ValueError",
     "evalue": "matmul: Input operand 1 has a mismatch in its core dimension 0, with gufunc signature (n?,k),(k,m?)->(n?,m?) (size 2 is different from 3)",
     "output_type": "error",
     "traceback": [
      "\u001B[0;31m---------------------------------------------------------------------------\u001B[0m",
      "\u001B[0;31mValueError\u001B[0m                                Traceback (most recent call last)",
      "Cell \u001B[0;32mIn[29], line 1\u001B[0m\n\u001B[0;32m----> 1\u001B[0m \u001B[43mW\u001B[49m\u001B[43m \u001B[49m\u001B[38;5;241;43m@\u001B[39;49m\u001B[43m \u001B[49m\u001B[43mA\u001B[49m\n",
      "\u001B[0;31mValueError\u001B[0m: matmul: Input operand 1 has a mismatch in its core dimension 0, with gufunc signature (n?,k),(k,m?)->(n?,m?) (size 2 is different from 3)"
     ]
    }
   ],
   "source": [
    "W @ A # error, because of dimensions"
   ],
   "metadata": {
    "collapsed": false,
    "ExecuteTime": {
     "end_time": "2023-11-24T10:56:39.076271Z",
     "start_time": "2023-11-24T10:56:39.036784Z"
    }
   }
  },
  {
   "cell_type": "markdown",
   "source": [
    "## MAX, ARGMAX, ASSIGNMENT\n",
    "\n",
    "In Numpy there is no straightforward function to compute the maximum of a function f(a), but we may exploit list comprehensions."
   ],
   "metadata": {
    "collapsed": false
   }
  },
  {
   "cell_type": "code",
   "execution_count": 30,
   "outputs": [
    {
     "data": {
      "text/plain": "100.0"
     },
     "execution_count": 30,
     "metadata": {},
     "output_type": "execute_result"
    }
   ],
   "source": [
    "S = [2, 3.0, 0.5, 6, 1, -10]\n",
    "\n",
    "def f(a):\n",
    "    return a**2\n",
    "\n",
    "np.max([f(a) for a in S])"
   ],
   "metadata": {
    "collapsed": false,
    "ExecuteTime": {
     "end_time": "2023-11-24T10:59:26.064950Z",
     "start_time": "2023-11-24T10:59:26.035080Z"
    }
   }
  },
  {
   "cell_type": "code",
   "execution_count": 31,
   "outputs": [
    {
     "data": {
      "text/plain": "-10"
     },
     "execution_count": 31,
     "metadata": {},
     "output_type": "execute_result"
    }
   ],
   "source": [
    "S[np.argmax([f(a) for a in S])]"
   ],
   "metadata": {
    "collapsed": false,
    "ExecuteTime": {
     "end_time": "2023-11-24T10:59:45.107821Z",
     "start_time": "2023-11-24T10:59:45.067290Z"
    }
   }
  },
  {
   "cell_type": "code",
   "execution_count": null,
   "outputs": [],
   "source": [],
   "metadata": {
    "collapsed": false
   }
  }
 ],
 "metadata": {
  "kernelspec": {
   "display_name": "Python 3",
   "language": "python",
   "name": "python3"
  },
  "language_info": {
   "codemirror_mode": {
    "name": "ipython",
    "version": 2
   },
   "file_extension": ".py",
   "mimetype": "text/x-python",
   "name": "python",
   "nbconvert_exporter": "python",
   "pygments_lexer": "ipython2",
   "version": "2.7.6"
  }
 },
 "nbformat": 4,
 "nbformat_minor": 0
}
