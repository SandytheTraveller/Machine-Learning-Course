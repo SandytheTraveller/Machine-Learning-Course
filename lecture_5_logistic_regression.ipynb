{
 "cells": [
  {
   "cell_type": "code",
   "execution_count": 58,
   "metadata": {
    "collapsed": true,
    "ExecuteTime": {
     "end_time": "2023-12-11T08:11:35.862294Z",
     "start_time": "2023-12-11T08:11:35.819523Z"
    }
   },
   "outputs": [],
   "source": [
    "from sklearn.datasets import load_breast_cancer, load_iris, make_classification\n",
    "from sklearn.preprocessing import StandardScaler\n",
    "from sklearn.linear_model import Perceptron, LogisticRegression\n",
    "from mlxtend.classifier import Adaline\n",
    "from mlxtend.data import iris_data\n",
    "from mlxtend.plotting import plot_decision_regions\n",
    "import matplotlib.pyplot as plt\n",
    "import pandas as pd\n",
    "import numpy as np\n",
    "from scipy.special import expit"
   ]
  },
  {
   "cell_type": "code",
   "execution_count": 59,
   "outputs": [],
   "source": [
    "X, y = iris_data()\n",
    "X = X[:, [0, 3]] # sepal length and pedal width\n",
    "X = X[0:100] # class 0 and class 1\n",
    "y = y[0:100] # class 0 and class 1"
   ],
   "metadata": {
    "collapsed": false,
    "ExecuteTime": {
     "end_time": "2023-12-11T08:11:36.419206Z",
     "start_time": "2023-12-11T08:11:36.379896Z"
    }
   }
  },
  {
   "cell_type": "code",
   "execution_count": 60,
   "outputs": [],
   "source": [
    "X_scaled = StandardScaler().fit_transform(X)"
   ],
   "metadata": {
    "collapsed": false,
    "ExecuteTime": {
     "end_time": "2023-12-11T08:11:36.996190Z",
     "start_time": "2023-12-11T08:11:36.982686Z"
    }
   }
  },
  {
   "cell_type": "code",
   "execution_count": 61,
   "outputs": [],
   "source": [
    "class LogisticRegressionGD:\n",
    "    def __init__(self, eta=0.01, n_iter=50, random_state=1):\n",
    "        self.eta = eta # learning rate\n",
    "        self.n_iter = n_iter # number of epochs\n",
    "        self.random_state = random_state # random state for weights and bias initialization\n",
    "\n",
    "    def fit(self, X, y):\n",
    "        rgen = np.random.RandomState(self.random_state)\n",
    "        self.w_ = rgen.normal(loc=0.0, scale=0.01, size=X.shape[1])\n",
    "        self.b_ = np.float_(0.)\n",
    "        self.losses_ = []\n",
    "\n",
    "        for i in range(self.n_iter):\n",
    "            net_input = self.net_input(X)\n",
    "            output = self.activation(net_input)\n",
    "            errors = (y - output)\n",
    "\n",
    "            self.w_ += self.eta * X.T.dot(errors) / X.shape[0]\n",
    "            self.b_ += self.eta * errors.mean()\n",
    "\n",
    "            loss = (-y.dot(np.log(output)) - (1 - y).dot(np.log(1 - output))) / X.shape[0]\n",
    "\n",
    "            self.losses_.append(loss)\n",
    "\n",
    "        return self\n",
    "\n",
    "    def net_input(self, X):\n",
    "        \"\"\"Calculate net input\"\"\"\n",
    "        return np.dot(X, self.w_) + self.b_\n",
    "\n",
    "    def activation(self, z):\n",
    "        \"\"\"Compute logistic sigmoid activation\"\"\"\n",
    "        return 1./(1. + np.exp(-np.clip(z, -250, 250)))\n",
    "\n",
    "    def predict(self, X):\n",
    "        \"\"\"Return class label after unit step\"\"\"\n",
    "        return np.where(self.activation(self.net_input(X)) >= 0.5, 1, 0)"
   ],
   "metadata": {
    "collapsed": false,
    "ExecuteTime": {
     "end_time": "2023-12-11T08:11:37.501204Z",
     "start_time": "2023-12-11T08:11:37.467313Z"
    }
   }
  },
  {
   "cell_type": "code",
   "execution_count": 62,
   "outputs": [
    {
     "data": {
      "text/plain": "<__main__.LogisticRegressionGD at 0x7fac83aa3d00>"
     },
     "execution_count": 62,
     "metadata": {},
     "output_type": "execute_result"
    }
   ],
   "source": [
    "lrgd = LogisticRegressionGD(eta=0.3, n_iter=1000, random_state=1)\n",
    "lrgd.fit(X_scaled, y)"
   ],
   "metadata": {
    "collapsed": false,
    "ExecuteTime": {
     "end_time": "2023-12-11T08:11:38.469980Z",
     "start_time": "2023-12-11T08:11:38.354675Z"
    }
   }
  },
  {
   "cell_type": "code",
   "execution_count": 63,
   "outputs": [
    {
     "data": {
      "text/plain": "<matplotlib.legend.Legend at 0x7fac83c35e80>"
     },
     "execution_count": 63,
     "metadata": {},
     "output_type": "execute_result"
    },
    {
     "data": {
      "text/plain": "<Figure size 640x480 with 1 Axes>",
      "image/png": "[encoded data removed]"
     },
     "metadata": {},
     "output_type": "display_data"
    }
   ],
   "source": [
    "plot_decision_regions(X=X_scaled,\n",
    "                      y=y,\n",
    "                      clf=lrgd)\n",
    "\n",
    "plt.xlabel('Petal length [standardized')\n",
    "plt.ylabel('Petal width [standardized]')\n",
    "plt.legend(loc='upper left')"
   ],
   "metadata": {
    "collapsed": false,
    "ExecuteTime": {
     "end_time": "2023-12-11T08:11:39.664354Z",
     "start_time": "2023-12-11T08:11:39.183700Z"
    }
   }
  },
  {
   "cell_type": "code",
   "execution_count": 64,
   "outputs": [
    {
     "data": {
      "text/plain": "LogisticRegression()",
      "text/html": "<style>#sk-container-id-5 {color: black;}#sk-container-id-5 pre{padding: 0;}#sk-container-id-5 div.sk-toggleable {background-color: white;}#sk-container-id-5 label.sk-toggleable__label {cursor: pointer;display: block;width: 100%;margin-bottom: 0;padding: 0.3em;box-sizing: border-box;text-align: center;}#sk-container-id-5 label.sk-toggleable__label-arrow:before {content: \"▸\";float: left;margin-right: 0.25em;color: #696969;}#sk-container-id-5 label.sk-toggleable__label-arrow:hover:before {color: black;}#sk-container-id-5 div.sk-estimator:hover label.sk-toggleable__label-arrow:before {color: black;}#sk-container-id-5 div.sk-toggleable__content {max-height: 0;max-width: 0;overflow: hidden;text-align: left;background-color: #f0f8ff;}#sk-container-id-5 div.sk-toggleable__content pre {margin: 0.2em;color: black;border-radius: 0.25em;background-color: #f0f8ff;}#sk-container-id-5 input.sk-toggleable__control:checked~div.sk-toggleable__content {max-height: 200px;max-width: 100%;overflow: auto;}#sk-container-id-5 input.sk-toggleable__control:checked~label.sk-toggleable__label-arrow:before {content: \"▾\";}#sk-container-id-5 div.sk-estimator input.sk-toggleable__control:checked~label.sk-toggleable__label {background-color: #d4ebff;}#sk-container-id-5 div.sk-label input.sk-toggleable__control:checked~label.sk-toggleable__label {background-color: #d4ebff;}#sk-container-id-5 input.sk-hidden--visually {border: 0;clip: rect(1px 1px 1px 1px);clip: rect(1px, 1px, 1px, 1px);height: 1px;margin: -1px;overflow: hidden;padding: 0;position: absolute;width: 1px;}#sk-container-id-5 div.sk-estimator {font-family: monospace;background-color: #f0f8ff;border: 1px dotted black;border-radius: 0.25em;box-sizing: border-box;margin-bottom: 0.5em;}#sk-container-id-5 div.sk-estimator:hover {background-color: #d4ebff;}#sk-container-id-5 div.sk-parallel-item::after {content: \"\";width: 100%;border-bottom: 1px solid gray;flex-grow: 1;}#sk-container-id-5 div.sk-label:hover label.sk-toggleable__label {background-color: #d4ebff;}#sk-container-id-5 div.sk-serial::before {content: \"\";position: absolute;border-left: 1px solid gray;box-sizing: border-box;top: 0;bottom: 0;left: 50%;z-index: 0;}#sk-container-id-5 div.sk-serial {display: flex;flex-direction: column;align-items: center;background-color: white;padding-right: 0.2em;padding-left: 0.2em;position: relative;}#sk-container-id-5 div.sk-item {position: relative;z-index: 1;}#sk-container-id-5 div.sk-parallel {display: flex;align-items: stretch;justify-content: center;background-color: white;position: relative;}#sk-container-id-5 div.sk-item::before, #sk-container-id-5 div.sk-parallel-item::before {content: \"\";position: absolute;border-left: 1px solid gray;box-sizing: border-box;top: 0;bottom: 0;left: 50%;z-index: -1;}#sk-container-id-5 div.sk-parallel-item {display: flex;flex-direction: column;z-index: 1;position: relative;background-color: white;}#sk-container-id-5 div.sk-parallel-item:first-child::after {align-self: flex-end;width: 50%;}#sk-container-id-5 div.sk-parallel-item:last-child::after {align-self: flex-start;width: 50%;}#sk-container-id-5 div.sk-parallel-item:only-child::after {width: 0;}#sk-container-id-5 div.sk-dashed-wrapped {border: 1px dashed gray;margin: 0 0.4em 0.5em 0.4em;box-sizing: border-box;padding-bottom: 0.4em;background-color: white;}#sk-container-id-5 div.sk-label label {font-family: monospace;font-weight: bold;display: inline-block;line-height: 1.2em;}#sk-container-id-5 div.sk-label-container {text-align: center;}#sk-container-id-5 div.sk-container {/* jupyter's `normalize.less` sets `[hidden] { display: none; }` but bootstrap.min.css set `[hidden] { display: none !important; }` so we also need the `!important` here to be able to override the default hidden behavior on the sphinx rendered scikit-learn.org. See: https://github.com/scikit-learn/scikit-learn/issues/21755 */display: inline-block !important;position: relative;}#sk-container-id-5 div.sk-text-repr-fallback {display: none;}</style><div id=\"sk-container-id-5\" class=\"sk-top-container\"><div class=\"sk-text-repr-fallback\"><pre>LogisticRegression()</pre><b>In a Jupyter environment, please rerun this cell to show the HTML representation or trust the notebook. <br />On GitHub, the HTML representation is unable to render, please try loading this page with nbviewer.org.</b></div><div class=\"sk-container\" hidden><div class=\"sk-item\"><div class=\"sk-estimator sk-toggleable\"><input class=\"sk-toggleable__control sk-hidden--visually\" id=\"sk-estimator-id-5\" type=\"checkbox\" checked><label for=\"sk-estimator-id-5\" class=\"sk-toggleable__label sk-toggleable__label-arrow\">LogisticRegression</label><div class=\"sk-toggleable__content\"><pre>LogisticRegression()</pre></div></div></div></div></div>"
     },
     "execution_count": 64,
     "metadata": {},
     "output_type": "execute_result"
    }
   ],
   "source": [
    "lr = LogisticRegression(solver='lbfgs')\n",
    "lr.fit(X_scaled, y)"
   ],
   "metadata": {
    "collapsed": false,
    "ExecuteTime": {
     "end_time": "2023-12-11T08:11:39.978888Z",
     "start_time": "2023-12-11T08:11:39.924908Z"
    }
   }
  },
  {
   "cell_type": "code",
   "execution_count": 65,
   "outputs": [
    {
     "data": {
      "text/plain": "<Figure size 640x480 with 1 Axes>",
      "image/png": "[encoded data removed]"
     },
     "metadata": {},
     "output_type": "display_data"
    }
   ],
   "source": [
    "plot_decision_regions(X_scaled, y, clf=lr)\n",
    "plt.xlabel('Petal length [standardized]')\n",
    "plt.ylabel('Petal width [standardized]')\n",
    "plt.legend(loc='upper left')\n",
    "plt.tight_layout()"
   ],
   "metadata": {
    "collapsed": false,
    "ExecuteTime": {
     "end_time": "2023-12-11T08:11:41.945583Z",
     "start_time": "2023-12-11T08:11:41.333588Z"
    }
   }
  },
  {
   "cell_type": "markdown",
   "source": [
    "As in the case of Perceptron, we get the weights of the model by the coef_ attribute."
   ],
   "metadata": {
    "collapsed": false
   }
  },
  {
   "cell_type": "code",
   "execution_count": 66,
   "outputs": [
    {
     "data": {
      "text/plain": "array([[0.810273  , 3.22257593]])"
     },
     "execution_count": 66,
     "metadata": {},
     "output_type": "execute_result"
    }
   ],
   "source": [
    "lr.coef_"
   ],
   "metadata": {
    "collapsed": false,
    "ExecuteTime": {
     "end_time": "2023-12-11T08:11:51.141545Z",
     "start_time": "2023-12-11T08:11:51.121426Z"
    }
   }
  },
  {
   "cell_type": "markdown",
   "source": [
    "We can interpret the weights of the Logistic Regression classifier as the importance or sensitivity of the feature associated with a specific coefficient.\n",
    "\n",
    "We take Iris dataset as an example and the weights of the previous classifier and predict the label of a point close the decision boundary."
   ],
   "metadata": {
    "collapsed": false
   }
  },
  {
   "cell_type": "code",
   "execution_count": 67,
   "outputs": [
    {
     "data": {
      "text/plain": "array([0])"
     },
     "execution_count": 67,
     "metadata": {},
     "output_type": "execute_result"
    }
   ],
   "source": [
    "lr.predict([[-1, 0]])"
   ],
   "metadata": {
    "collapsed": false,
    "ExecuteTime": {
     "end_time": "2023-12-11T08:11:52.549988Z",
     "start_time": "2023-12-11T08:11:52.532589Z"
    }
   }
  },
  {
   "cell_type": "markdown",
   "source": [
    "If we move the point in the direction of the less important weight, i.e. w_1, we can apply a large shift without modifying the predicted label.\n",
    "\n",
    "We need to check."
   ],
   "metadata": {
    "collapsed": false
   }
  },
  {
   "cell_type": "code",
   "execution_count": 68,
   "outputs": [
    {
     "data": {
      "text/plain": "array([0])"
     },
     "execution_count": 68,
     "metadata": {},
     "output_type": "execute_result"
    }
   ],
   "source": [
    "lr.predict([[-4, 0]])"
   ],
   "metadata": {
    "collapsed": false,
    "ExecuteTime": {
     "end_time": "2023-12-11T08:11:54.232869Z",
     "start_time": "2023-12-11T08:11:54.213122Z"
    }
   }
  },
  {
   "cell_type": "markdown",
   "source": [
    "Otherwise, a small increase to the direction of the largest weight may result into a change of the prediction."
   ],
   "metadata": {
    "collapsed": false
   }
  },
  {
   "cell_type": "code",
   "execution_count": 69,
   "outputs": [
    {
     "data": {
      "text/plain": "array([1])"
     },
     "execution_count": 69,
     "metadata": {},
     "output_type": "execute_result"
    }
   ],
   "source": [
    "lr.predict([[-1, 3]])"
   ],
   "metadata": {
    "collapsed": false,
    "ExecuteTime": {
     "end_time": "2023-12-11T08:11:55.498261Z",
     "start_time": "2023-12-11T08:11:55.474720Z"
    }
   }
  },
  {
   "cell_type": "markdown",
   "source": [
    "This Logistic Model is more sensitive to changes in the feature at index 2 corresponding to w_2 than to changes in the feature 1.\n",
    "Feature 2 is more important since it more heavily determine the prediction w.r.t. feature 1.\n",
    "\n",
    "We can go inside the classifier by getting the probability prediction (?), the net input (decision_function)."
   ],
   "metadata": {
    "collapsed": false
   }
  },
  {
   "cell_type": "code",
   "execution_count": 70,
   "outputs": [
    {
     "data": {
      "text/plain": "array([[0.96996917, 0.03003083],\n       [0.97654305, 0.02345695],\n       [0.98170503, 0.01829497],\n       [0.98385028, 0.01614972],\n       [0.97345334, 0.02654666],\n       [0.87549533, 0.12450467],\n       [0.9717398 , 0.0282602 ],\n       [0.97345334, 0.02654666],\n       [0.98742492, 0.01257508],\n       [0.9866235 , 0.0133765 ]])"
     },
     "execution_count": 70,
     "metadata": {},
     "output_type": "execute_result"
    }
   ],
   "source": [
    "lr.predict_proba(X_scaled[:10,:])"
   ],
   "metadata": {
    "collapsed": false,
    "ExecuteTime": {
     "end_time": "2023-12-11T08:11:57.047572Z",
     "start_time": "2023-12-11T08:11:57.002770Z"
    }
   }
  },
  {
   "cell_type": "code",
   "execution_count": 72,
   "outputs": [
    {
     "data": {
      "text/plain": "array([-3.47503974, -3.72885215, -3.98266455, -4.10957075, -3.60194594,\n       -1.95044661, -3.53763349, -3.60194594, -4.36338316, -4.30078941])"
     },
     "execution_count": 72,
     "metadata": {},
     "output_type": "execute_result"
    }
   ],
   "source": [
    "lr.decision_function(X_scaled[:10,:])"
   ],
   "metadata": {
    "collapsed": false,
    "ExecuteTime": {
     "end_time": "2023-12-11T08:12:04.410310Z",
     "start_time": "2023-12-11T08:12:04.376259Z"
    }
   }
  },
  {
   "cell_type": "code",
   "execution_count": 73,
   "outputs": [
    {
     "data": {
      "text/plain": "array([-3.47503974])"
     },
     "execution_count": 73,
     "metadata": {},
     "output_type": "execute_result"
    }
   ],
   "source": [
    "lr.coef_.dot(X_scaled[0,:]) + lr.intercept_"
   ],
   "metadata": {
    "collapsed": false,
    "ExecuteTime": {
     "end_time": "2023-12-11T08:12:05.202962Z",
     "start_time": "2023-12-11T08:12:05.159343Z"
    }
   }
  },
  {
   "cell_type": "code",
   "execution_count": 74,
   "outputs": [
    {
     "data": {
      "text/plain": "array([[0.03003083, 0.02345695, 0.01829497, 0.01614972, 0.02654666,\n        0.12450467, 0.0282602 , 0.02654666, 0.01257508, 0.0133765 ]])"
     },
     "execution_count": 74,
     "metadata": {},
     "output_type": "execute_result"
    }
   ],
   "source": [
    "expit(lr.coef_.dot(X_scaled[:10,:].T) + lr.intercept_)"
   ],
   "metadata": {
    "collapsed": false,
    "ExecuteTime": {
     "end_time": "2023-12-11T08:12:06.084858Z",
     "start_time": "2023-12-11T08:12:05.961245Z"
    }
   }
  },
  {
   "cell_type": "code",
   "execution_count": 75,
   "outputs": [
    {
     "data": {
      "text/plain": "array([[-0.03049099, -3.50553073],\n       [-0.02373644, -3.75258859],\n       [-0.0184644 , -4.00112895],\n       [-0.01628155, -4.1258523 ],\n       [-0.02690539, -3.62885133],\n       [-0.13296546, -2.08341207],\n       [-0.02866721, -3.5663007 ],\n       [-0.02690539, -3.62885133],\n       [-0.01265482, -4.37603797],\n       [-0.01346677, -4.31425618]])"
     },
     "execution_count": 75,
     "metadata": {},
     "output_type": "execute_result"
    }
   ],
   "source": [
    "lr.predict_log_proba(X_scaled[:10,:])"
   ],
   "metadata": {
    "collapsed": false,
    "ExecuteTime": {
     "end_time": "2023-12-11T08:12:06.863269Z",
     "start_time": "2023-12-11T08:12:06.809571Z"
    }
   }
  },
  {
   "cell_type": "code",
   "execution_count": 76,
   "outputs": [
    {
     "name": "stderr",
     "output_type": "stream",
     "text": [
      "/Users/alex_k/Desktop/Machine-Learning-Course/venv/lib/python3.8/site-packages/sklearn/linear_model/_logistic.py:1183: FutureWarning: `penalty='none'`has been deprecated in 1.2 and will be removed in 1.4. To keep the past behaviour, set `penalty=None`.\n",
      "  warnings.warn(\n"
     ]
    },
    {
     "data": {
      "text/plain": "LogisticRegression(penalty='none')",
      "text/html": "<style>#sk-container-id-6 {color: black;}#sk-container-id-6 pre{padding: 0;}#sk-container-id-6 div.sk-toggleable {background-color: white;}#sk-container-id-6 label.sk-toggleable__label {cursor: pointer;display: block;width: 100%;margin-bottom: 0;padding: 0.3em;box-sizing: border-box;text-align: center;}#sk-container-id-6 label.sk-toggleable__label-arrow:before {content: \"▸\";float: left;margin-right: 0.25em;color: #696969;}#sk-container-id-6 label.sk-toggleable__label-arrow:hover:before {color: black;}#sk-container-id-6 div.sk-estimator:hover label.sk-toggleable__label-arrow:before {color: black;}#sk-container-id-6 div.sk-toggleable__content {max-height: 0;max-width: 0;overflow: hidden;text-align: left;background-color: #f0f8ff;}#sk-container-id-6 div.sk-toggleable__content pre {margin: 0.2em;color: black;border-radius: 0.25em;background-color: #f0f8ff;}#sk-container-id-6 input.sk-toggleable__control:checked~div.sk-toggleable__content {max-height: 200px;max-width: 100%;overflow: auto;}#sk-container-id-6 input.sk-toggleable__control:checked~label.sk-toggleable__label-arrow:before {content: \"▾\";}#sk-container-id-6 div.sk-estimator input.sk-toggleable__control:checked~label.sk-toggleable__label {background-color: #d4ebff;}#sk-container-id-6 div.sk-label input.sk-toggleable__control:checked~label.sk-toggleable__label {background-color: #d4ebff;}#sk-container-id-6 input.sk-hidden--visually {border: 0;clip: rect(1px 1px 1px 1px);clip: rect(1px, 1px, 1px, 1px);height: 1px;margin: -1px;overflow: hidden;padding: 0;position: absolute;width: 1px;}#sk-container-id-6 div.sk-estimator {font-family: monospace;background-color: #f0f8ff;border: 1px dotted black;border-radius: 0.25em;box-sizing: border-box;margin-bottom: 0.5em;}#sk-container-id-6 div.sk-estimator:hover {background-color: #d4ebff;}#sk-container-id-6 div.sk-parallel-item::after {content: \"\";width: 100%;border-bottom: 1px solid gray;flex-grow: 1;}#sk-container-id-6 div.sk-label:hover label.sk-toggleable__label {background-color: #d4ebff;}#sk-container-id-6 div.sk-serial::before {content: \"\";position: absolute;border-left: 1px solid gray;box-sizing: border-box;top: 0;bottom: 0;left: 50%;z-index: 0;}#sk-container-id-6 div.sk-serial {display: flex;flex-direction: column;align-items: center;background-color: white;padding-right: 0.2em;padding-left: 0.2em;position: relative;}#sk-container-id-6 div.sk-item {position: relative;z-index: 1;}#sk-container-id-6 div.sk-parallel {display: flex;align-items: stretch;justify-content: center;background-color: white;position: relative;}#sk-container-id-6 div.sk-item::before, #sk-container-id-6 div.sk-parallel-item::before {content: \"\";position: absolute;border-left: 1px solid gray;box-sizing: border-box;top: 0;bottom: 0;left: 50%;z-index: -1;}#sk-container-id-6 div.sk-parallel-item {display: flex;flex-direction: column;z-index: 1;position: relative;background-color: white;}#sk-container-id-6 div.sk-parallel-item:first-child::after {align-self: flex-end;width: 50%;}#sk-container-id-6 div.sk-parallel-item:last-child::after {align-self: flex-start;width: 50%;}#sk-container-id-6 div.sk-parallel-item:only-child::after {width: 0;}#sk-container-id-6 div.sk-dashed-wrapped {border: 1px dashed gray;margin: 0 0.4em 0.5em 0.4em;box-sizing: border-box;padding-bottom: 0.4em;background-color: white;}#sk-container-id-6 div.sk-label label {font-family: monospace;font-weight: bold;display: inline-block;line-height: 1.2em;}#sk-container-id-6 div.sk-label-container {text-align: center;}#sk-container-id-6 div.sk-container {/* jupyter's `normalize.less` sets `[hidden] { display: none; }` but bootstrap.min.css set `[hidden] { display: none !important; }` so we also need the `!important` here to be able to override the default hidden behavior on the sphinx rendered scikit-learn.org. See: https://github.com/scikit-learn/scikit-learn/issues/21755 */display: inline-block !important;position: relative;}#sk-container-id-6 div.sk-text-repr-fallback {display: none;}</style><div id=\"sk-container-id-6\" class=\"sk-top-container\"><div class=\"sk-text-repr-fallback\"><pre>LogisticRegression(penalty=&#x27;none&#x27;)</pre><b>In a Jupyter environment, please rerun this cell to show the HTML representation or trust the notebook. <br />On GitHub, the HTML representation is unable to render, please try loading this page with nbviewer.org.</b></div><div class=\"sk-container\" hidden><div class=\"sk-item\"><div class=\"sk-estimator sk-toggleable\"><input class=\"sk-toggleable__control sk-hidden--visually\" id=\"sk-estimator-id-6\" type=\"checkbox\" checked><label for=\"sk-estimator-id-6\" class=\"sk-toggleable__label sk-toggleable__label-arrow\">LogisticRegression</label><div class=\"sk-toggleable__content\"><pre>LogisticRegression(penalty=&#x27;none&#x27;)</pre></div></div></div></div></div>"
     },
     "execution_count": 76,
     "metadata": {},
     "output_type": "execute_result"
    }
   ],
   "source": [
    "X, y = make_classification(n_samples=1000,\n",
    "                           n_features=10,\n",
    "                           n_informative=8,\n",
    "                           n_redundant=2)\n",
    "\n",
    "lr_clf = LogisticRegression(penalty='none')\n",
    "lr_clf.fit(X, y)"
   ],
   "metadata": {
    "collapsed": false,
    "ExecuteTime": {
     "end_time": "2023-12-11T08:12:07.868067Z",
     "start_time": "2023-12-11T08:12:07.679749Z"
    }
   }
  },
  {
   "cell_type": "code",
   "execution_count": 77,
   "outputs": [],
   "source": [
    "def odds(p):\n",
    "    return p/(1 - p)"
   ],
   "metadata": {
    "collapsed": false,
    "ExecuteTime": {
     "end_time": "2023-12-11T08:12:09.416948Z",
     "start_time": "2023-12-11T08:12:09.401256Z"
    }
   }
  },
  {
   "cell_type": "code",
   "execution_count": 78,
   "outputs": [
    {
     "name": "stdout",
     "output_type": "stream",
     "text": [
      "weight: -0.3153186198176716, exp_weight: 0.7295563861106326 - Odds ratio: 0.7295563861106327\n",
      "weight: -0.049633868746287516, exp_weight: 0.951577763087405 - Odds ratio: 0.951577763087405\n",
      "weight: -0.07003148589448309, exp_weight: 0.9323644631146828 - Odds ratio: 0.9323644631146826\n",
      "weight: -0.02394381652519714, exp_weight: 0.9763405624223761 - Odds ratio: 0.9763405624223759\n",
      "weight: -0.17608042135545066, exp_weight: 0.8385505432539966 - Odds ratio: 0.8385505432539965\n",
      "weight: -0.27099480886308397, exp_weight: 0.7626204552619881 - Odds ratio: 0.7626204552619883\n",
      "weight: 0.6597780420968574, exp_weight: 1.9343629396080182 - Odds ratio: 1.9343629396080178\n",
      "weight: 0.037158639266499705, exp_weight: 1.0378576527560328 - Odds ratio: 1.0378576527560328\n",
      "weight: 4.058206136780485e-05, exp_weight: 1.0000405828848309 - Odds ratio: 1.0000405828848309\n",
      "weight: 0.11495120485800224, exp_weight: 1.121818696933798 - Odds ratio: 1.1218186969337978\n"
     ]
    }
   ],
   "source": [
    "x_test = X[0,:]\n",
    "w, b = lr_clf.coef_[0], lr_clf.intercept_[0]\n",
    "p = expit(b + w.dot(x_test.T))\n",
    "\n",
    "for j in range(len(x_test)): # for each dimension\n",
    "    x_test_1 = x_test.copy()\n",
    "    x_test_1[j] = x_test_1[j] + 1\n",
    "    p_1 = expit(b + w.dot(x_test_1.T))\n",
    "    print(f'weight: {w[j]}, exp_weight: {np.exp(w[j])} - Odds ratio: {odds(p_1) / odds(p)}')"
   ],
   "metadata": {
    "collapsed": false,
    "ExecuteTime": {
     "end_time": "2023-12-11T08:12:10.619489Z",
     "start_time": "2023-12-11T08:12:10.590845Z"
    }
   }
  },
  {
   "cell_type": "code",
   "execution_count": 79,
   "outputs": [],
   "source": [
    "X_scaled = StandardScaler().fit_transform(X)"
   ],
   "metadata": {
    "collapsed": false,
    "ExecuteTime": {
     "end_time": "2023-12-11T08:12:11.585063Z",
     "start_time": "2023-12-11T08:12:11.570318Z"
    }
   }
  },
  {
   "cell_type": "code",
   "execution_count": 80,
   "outputs": [
    {
     "data": {
      "text/plain": "<Figure size 640x480 with 1 Axes>",
      "image/png": "[encoded data removed]"
     },
     "metadata": {},
     "output_type": "display_data"
    }
   ],
   "source": [
    "weights, params = [], []\n",
    "\n",
    "for c in np.arange(-5, 5):\n",
    "    lr = LogisticRegression(C=10.**c)\n",
    "    lr.fit(X, y)\n",
    "    weights.append(lr.coef_[0])\n",
    "    params.append(10.**c)\n",
    "\n",
    "weights = np.array(weights)\n",
    "\n",
    "plt.plot(params, weights[:, 0],\n",
    "         label='Petal length')\n",
    "plt.plot(params, weights[:, 1], linestyle='--',\n",
    "         label='Petal width')\n",
    "plt.ylabel('Weight coefficient')\n",
    "plt.xlabel('C')\n",
    "plt.legend(loc='upper left')\n",
    "plt.xscale('log')"
   ],
   "metadata": {
    "collapsed": false,
    "ExecuteTime": {
     "end_time": "2023-12-11T08:12:13.597894Z",
     "start_time": "2023-12-11T08:12:12.687997Z"
    }
   }
  },
  {
   "cell_type": "code",
   "execution_count": 81,
   "outputs": [
    {
     "name": "stdout",
     "output_type": "stream",
     "text": [
      "[-3.15318620e-01 -4.96338687e-02 -7.00314859e-02 -2.39438165e-02\n",
      " -1.76080421e-01 -2.70994809e-01  6.59778042e-01  3.71586393e-02\n",
      "  4.05820614e-05  1.14951205e-01]\n",
      "[-0.22724089 -0.03340976 -0.06211881 -0.03601209 -0.15147427 -0.2161377\n",
      "  0.51414452  0.00507928 -0.02486683  0.07846294]\n",
      "[ 0.          0.         -0.03617871  0.         -0.03344377 -0.09199289\n",
      "  0.48610019  0.          0.          0.        ]\n"
     ]
    },
    {
     "name": "stderr",
     "output_type": "stream",
     "text": [
      "/Users/alex_k/Desktop/Machine-Learning-Course/venv/lib/python3.8/site-packages/sklearn/linear_model/_logistic.py:1183: FutureWarning: `penalty='none'`has been deprecated in 1.2 and will be removed in 1.4. To keep the past behaviour, set `penalty=None`.\n",
      "  warnings.warn(\n"
     ]
    }
   ],
   "source": [
    "lr_unreg = LogisticRegression(penalty='none')\n",
    "lr_reg_l2 = LogisticRegression(penalty='l2', C=0.01)\n",
    "lr_reg_l1 = LogisticRegression(penalty='l1', solver='liblinear', C=0.01)\n",
    "lr_unreg.fit(X, y)\n",
    "lr_reg_l2.fit(X, y)\n",
    "lr_reg_l1.fit(X, y)\n",
    "\n",
    "print(lr_unreg.coef_[0])\n",
    "print(lr_reg_l2.coef_[0])\n",
    "print(lr_reg_l1.coef_[0])"
   ],
   "metadata": {
    "collapsed": false,
    "ExecuteTime": {
     "end_time": "2023-12-11T09:39:14.581164Z",
     "start_time": "2023-12-11T09:39:14.522914Z"
    }
   }
  },
  {
   "cell_type": "code",
   "execution_count": 86,
   "outputs": [
    {
     "name": "stdout",
     "output_type": "stream",
     "text": [
      "[array([0., 0., 0., 0., 0., 0., 0., 0., 0., 0.]), array([0., 0., 0., 0., 0., 0., 0., 0., 0., 0.]), array([ 0.        ,  0.        , -0.03620195,  0.        , -0.03345609,\n",
      "       -0.09192382,  0.48610685,  0.        ,  0.        ,  0.        ]), array([-0.17944539, -0.05186004, -0.06069845,  0.        , -0.06975465,\n",
      "       -0.28522999,  0.68181154,  0.04992721, -0.0475428 ,  0.        ]), array([-0.19548418, -0.02056931, -0.1177957 ,  0.        , -0.07119802,\n",
      "       -0.29679654,  0.73746734,  0.13819997, -0.01927822,  0.        ]), array([-0.19718036, -0.01727076, -0.12383624,  0.        , -0.07134696,\n",
      "       -0.29802319,  0.74348952,  0.1474948 , -0.01629419,  0.        ]), array([-0.21332756, -0.10529235, -0.02254573,  0.07327833, -0.05639732,\n",
      "       -0.36758384,  0.72177229,  0.07671151, -0.05708437,  0.00608097]), array([-0.30295795, -0.07324339, -0.04527984,  0.00316751, -0.1557367 ,\n",
      "       -0.29733366,  0.6650783 ,  0.03052703, -0.0155808 ,  0.09986495]), array([-0.2764159 , -0.09844707, -0.0208831 ,  0.03823046, -0.12085245,\n",
      "       -0.33182775,  0.67985814,  0.03363414, -0.03597934,  0.07029496]), array([-0.29931951, -0.08884679, -0.02825884,  0.0190658 , -0.14673258,\n",
      "       -0.31265452,  0.66553726,  0.02276791, -0.02462206,  0.09443259])]\n"
     ]
    }
   ],
   "source": [
    "colors = ['blue', 'green', 'red', 'cyan','magenta', 'yellow', 'black', 'pink', 'lightgreen', 'lightblue']\n",
    "weights, params = [], []\n",
    "\n",
    "for c in np.arange(-4., 6.):\n",
    "    lr_clf = LogisticRegression(penalty='l1', solver='liblinear', C = 10.**c)\n",
    "    lr_clf.fit(X,y)\n",
    "    weights.append(lr_clf.coef_[0])\n",
    "    params.append(10.**c)\n",
    "print(weights)"
   ],
   "metadata": {
    "collapsed": false,
    "ExecuteTime": {
     "end_time": "2023-12-11T09:42:34.652037Z",
     "start_time": "2023-12-11T09:42:34.555303Z"
    }
   }
  }
 ],
 "metadata": {
  "kernelspec": {
   "display_name": "Python 3",
   "language": "python",
   "name": "python3"
  },
  "language_info": {
   "codemirror_mode": {
    "name": "ipython",
    "version": 2
   },
   "file_extension": ".py",
   "mimetype": "text/x-python",
   "name": "python",
   "nbconvert_exporter": "python",
   "pygments_lexer": "ipython2",
   "version": "2.7.6"
  }
 },
 "nbformat": 4,
 "nbformat_minor": 0
}
