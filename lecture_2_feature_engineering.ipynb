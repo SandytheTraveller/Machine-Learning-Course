{
 "cells": [
  {
   "cell_type": "code",
   "execution_count": 64,
   "metadata": {
    "collapsed": true,
    "ExecuteTime": {
     "end_time": "2023-11-26T11:12:01.820167Z",
     "start_time": "2023-11-26T11:12:01.802350Z"
    }
   },
   "outputs": [],
   "source": [
    "import numpy as np\n",
    "import pandas as pd\n",
    "import matplotlib as mpl\n",
    "import scipy as sp\n",
    "from sklearn.impute import SimpleImputer\n",
    "from sklearn.preprocessing import StandardScaler, MinMaxScaler, OrdinalEncoder, OneHotEncoder, KBinsDiscretizer\n",
    "from sklearn.pipeline import Pipeline\n",
    "from sklearn.compose import ColumnTransformer\n"
   ]
  },
  {
   "cell_type": "markdown",
   "source": [
    "# Feature Engineering\n"
   ],
   "metadata": {
    "collapsed": false
   }
  },
  {
   "cell_type": "markdown",
   "source": [
    "The most important library for ML is scikit-learn, a de-facto standard for developing ML-oriented projects. Here we introduced some characteristics of the library which are helpful for the data preprocessing phase in ML project.\n",
    "Moreover, we also introduce two other important libraries: pandas and numpy. The former plays are important role in data preprocessing, too."
   ],
   "metadata": {
    "collapsed": false
   }
  },
  {
   "cell_type": "markdown",
   "source": [
    "Before doing data preprocessing, we get data from a data source, a CSV file, organized as a table.\n",
    "\n",
    "## Loading Data\n",
    "We use module pandas to get the data and transform the CSV file into a table, namely a DataFrame object. A DataFrame is an object modelling tabular data. It's made by rows and each row is described by a set of columns. Each column has a name.\n",
    "\n",
    "To read csv file, we use method read_csv."
   ],
   "metadata": {
    "collapsed": false
   }
  },
  {
   "cell_type": "code",
   "execution_count": 4,
   "outputs": [
    {
     "data": {
      "text/plain": "       age  length_screw   diameter  middle_diameter  hammer_strength  \\\n0     47.0     39.537837  17.053504         4.301665        46.389102   \n1     20.0     -1.034592 -67.283321              NaN      -167.451060   \n2     72.0     40.686959 -21.411874         2.578786       -34.345003   \n3     23.0     60.179331  39.712469         3.065198       118.023664   \n4     93.0      2.862281  33.059898              NaN        99.476390   \n...    ...           ...        ...              ...              ...   \n9995  80.0     29.688847  -8.900835         5.830887       -15.037037   \n9996  35.0     23.757652  54.140757         3.128091       124.841787   \n9997  31.0      7.493367 -32.458441         2.022378       -83.878678   \n9998  33.0     33.341941 -36.872158              NaN       -84.604433   \n9999  76.0     28.463501  22.295653         4.978659        55.307215   \n\n         rank size  country  \n0      medium    L  Denmark  \n1        good  XXL  Denmark  \n2      medium    L  Austria  \n3     perfect   XL  Austria  \n4     perfect   XL  Germany  \n...       ...  ...      ...  \n9995     good  XXL  Denmark  \n9996   medium    L  Germany  \n9997  perfect    L   France  \n9998     good    M  Austria  \n9999  perfect  XXL    Italy  \n\n[10000 rows x 8 columns]",
      "text/html": "<div>\n<style scoped>\n    .dataframe tbody tr th:only-of-type {\n        vertical-align: middle;\n    }\n\n    .dataframe tbody tr th {\n        vertical-align: top;\n    }\n\n    .dataframe thead th {\n        text-align: right;\n    }\n</style>\n<table border=\"1\" class=\"dataframe\">\n  <thead>\n    <tr style=\"text-align: right;\">\n      <th></th>\n      <th>age</th>\n      <th>length_screw</th>\n      <th>diameter</th>\n      <th>middle_diameter</th>\n      <th>hammer_strength</th>\n      <th>rank</th>\n      <th>size</th>\n      <th>country</th>\n    </tr>\n  </thead>\n  <tbody>\n    <tr>\n      <th>0</th>\n      <td>47.0</td>\n      <td>39.537837</td>\n      <td>17.053504</td>\n      <td>4.301665</td>\n      <td>46.389102</td>\n      <td>medium</td>\n      <td>L</td>\n      <td>Denmark</td>\n    </tr>\n    <tr>\n      <th>1</th>\n      <td>20.0</td>\n      <td>-1.034592</td>\n      <td>-67.283321</td>\n      <td>NaN</td>\n      <td>-167.451060</td>\n      <td>good</td>\n      <td>XXL</td>\n      <td>Denmark</td>\n    </tr>\n    <tr>\n      <th>2</th>\n      <td>72.0</td>\n      <td>40.686959</td>\n      <td>-21.411874</td>\n      <td>2.578786</td>\n      <td>-34.345003</td>\n      <td>medium</td>\n      <td>L</td>\n      <td>Austria</td>\n    </tr>\n    <tr>\n      <th>3</th>\n      <td>23.0</td>\n      <td>60.179331</td>\n      <td>39.712469</td>\n      <td>3.065198</td>\n      <td>118.023664</td>\n      <td>perfect</td>\n      <td>XL</td>\n      <td>Austria</td>\n    </tr>\n    <tr>\n      <th>4</th>\n      <td>93.0</td>\n      <td>2.862281</td>\n      <td>33.059898</td>\n      <td>NaN</td>\n      <td>99.476390</td>\n      <td>perfect</td>\n      <td>XL</td>\n      <td>Germany</td>\n    </tr>\n    <tr>\n      <th>...</th>\n      <td>...</td>\n      <td>...</td>\n      <td>...</td>\n      <td>...</td>\n      <td>...</td>\n      <td>...</td>\n      <td>...</td>\n      <td>...</td>\n    </tr>\n    <tr>\n      <th>9995</th>\n      <td>80.0</td>\n      <td>29.688847</td>\n      <td>-8.900835</td>\n      <td>5.830887</td>\n      <td>-15.037037</td>\n      <td>good</td>\n      <td>XXL</td>\n      <td>Denmark</td>\n    </tr>\n    <tr>\n      <th>9996</th>\n      <td>35.0</td>\n      <td>23.757652</td>\n      <td>54.140757</td>\n      <td>3.128091</td>\n      <td>124.841787</td>\n      <td>medium</td>\n      <td>L</td>\n      <td>Germany</td>\n    </tr>\n    <tr>\n      <th>9997</th>\n      <td>31.0</td>\n      <td>7.493367</td>\n      <td>-32.458441</td>\n      <td>2.022378</td>\n      <td>-83.878678</td>\n      <td>perfect</td>\n      <td>L</td>\n      <td>France</td>\n    </tr>\n    <tr>\n      <th>9998</th>\n      <td>33.0</td>\n      <td>33.341941</td>\n      <td>-36.872158</td>\n      <td>NaN</td>\n      <td>-84.604433</td>\n      <td>good</td>\n      <td>M</td>\n      <td>Austria</td>\n    </tr>\n    <tr>\n      <th>9999</th>\n      <td>76.0</td>\n      <td>28.463501</td>\n      <td>22.295653</td>\n      <td>4.978659</td>\n      <td>55.307215</td>\n      <td>perfect</td>\n      <td>XXL</td>\n      <td>Italy</td>\n    </tr>\n  </tbody>\n</table>\n<p>10000 rows × 8 columns</p>\n</div>"
     },
     "execution_count": 4,
     "metadata": {},
     "output_type": "execute_result"
    }
   ],
   "source": [
    "playground = pd.read_csv('data/playground.csv')\n",
    "playground"
   ],
   "metadata": {
    "collapsed": false,
    "ExecuteTime": {
     "end_time": "2023-11-26T09:26:30.379645Z",
     "start_time": "2023-11-26T09:26:30.333128Z"
    }
   }
  },
  {
   "cell_type": "markdown",
   "source": [
    "## Preliminary Inspection"
   ],
   "metadata": {
    "collapsed": false
   }
  },
  {
   "cell_type": "markdown",
   "source": [
    "We can get information about the table, i.e. types of columns, information about missing values, data distrubution by using methods describe() and info()."
   ],
   "metadata": {
    "collapsed": false
   }
  },
  {
   "cell_type": "code",
   "execution_count": 5,
   "outputs": [
    {
     "name": "stdout",
     "output_type": "stream",
     "text": [
      "<class 'pandas.core.frame.DataFrame'>\n",
      "RangeIndex: 10000 entries, 0 to 9999\n",
      "Data columns (total 8 columns):\n",
      " #   Column           Non-Null Count  Dtype  \n",
      "---  ------           --------------  -----  \n",
      " 0   age              9990 non-null   float64\n",
      " 1   length_screw     9970 non-null   float64\n",
      " 2   diameter         9990 non-null   float64\n",
      " 3   middle_diameter  4994 non-null   float64\n",
      " 4   hammer_strength  9970 non-null   float64\n",
      " 5   rank             9990 non-null   object \n",
      " 6   size             9950 non-null   object \n",
      " 7   country          9990 non-null   object \n",
      "dtypes: float64(5), object(3)\n",
      "memory usage: 625.1+ KB\n"
     ]
    }
   ],
   "source": [
    "playground.info()"
   ],
   "metadata": {
    "collapsed": false,
    "ExecuteTime": {
     "end_time": "2023-11-26T09:31:44.519027Z",
     "start_time": "2023-11-26T09:31:44.485911Z"
    }
   }
  },
  {
   "cell_type": "markdown",
   "source": [
    "The most problematic column is middle_diameter - half the data is missing. Actually, in every column there're at least 10 entries missing."
   ],
   "metadata": {
    "collapsed": false
   }
  },
  {
   "cell_type": "code",
   "execution_count": 6,
   "outputs": [
    {
     "data": {
      "text/plain": "               age  length_screw     diameter  middle_diameter  \\\ncount  9990.000000   9970.000000  9990.000000      4994.000000   \nmean     57.820420     29.885444     1.462067         3.006871   \nstd      23.368789     20.103509    40.196593         1.996277   \nmin      18.000000    -45.443865  -154.473963        -4.079200   \n25%      37.000000     16.177003   -25.098778         1.684077   \n50%      58.000000     29.801311     1.209477         2.995461   \n75%      78.000000     43.547181    28.115844         4.344913   \nmax      98.000000     99.756118   142.606375         9.735810   \n\n       hammer_strength  \ncount      9970.000000  \nmean         14.701874  \nstd         101.184493  \nmin        -376.367170  \n25%         -52.087874  \n50%          14.201412  \n75%          81.566187  \nmax         344.912921  ",
      "text/html": "<div>\n<style scoped>\n    .dataframe tbody tr th:only-of-type {\n        vertical-align: middle;\n    }\n\n    .dataframe tbody tr th {\n        vertical-align: top;\n    }\n\n    .dataframe thead th {\n        text-align: right;\n    }\n</style>\n<table border=\"1\" class=\"dataframe\">\n  <thead>\n    <tr style=\"text-align: right;\">\n      <th></th>\n      <th>age</th>\n      <th>length_screw</th>\n      <th>diameter</th>\n      <th>middle_diameter</th>\n      <th>hammer_strength</th>\n    </tr>\n  </thead>\n  <tbody>\n    <tr>\n      <th>count</th>\n      <td>9990.000000</td>\n      <td>9970.000000</td>\n      <td>9990.000000</td>\n      <td>4994.000000</td>\n      <td>9970.000000</td>\n    </tr>\n    <tr>\n      <th>mean</th>\n      <td>57.820420</td>\n      <td>29.885444</td>\n      <td>1.462067</td>\n      <td>3.006871</td>\n      <td>14.701874</td>\n    </tr>\n    <tr>\n      <th>std</th>\n      <td>23.368789</td>\n      <td>20.103509</td>\n      <td>40.196593</td>\n      <td>1.996277</td>\n      <td>101.184493</td>\n    </tr>\n    <tr>\n      <th>min</th>\n      <td>18.000000</td>\n      <td>-45.443865</td>\n      <td>-154.473963</td>\n      <td>-4.079200</td>\n      <td>-376.367170</td>\n    </tr>\n    <tr>\n      <th>25%</th>\n      <td>37.000000</td>\n      <td>16.177003</td>\n      <td>-25.098778</td>\n      <td>1.684077</td>\n      <td>-52.087874</td>\n    </tr>\n    <tr>\n      <th>50%</th>\n      <td>58.000000</td>\n      <td>29.801311</td>\n      <td>1.209477</td>\n      <td>2.995461</td>\n      <td>14.201412</td>\n    </tr>\n    <tr>\n      <th>75%</th>\n      <td>78.000000</td>\n      <td>43.547181</td>\n      <td>28.115844</td>\n      <td>4.344913</td>\n      <td>81.566187</td>\n    </tr>\n    <tr>\n      <th>max</th>\n      <td>98.000000</td>\n      <td>99.756118</td>\n      <td>142.606375</td>\n      <td>9.735810</td>\n      <td>344.912921</td>\n    </tr>\n  </tbody>\n</table>\n</div>"
     },
     "execution_count": 6,
     "metadata": {},
     "output_type": "execute_result"
    }
   ],
   "source": [
    "playground.describe()"
   ],
   "metadata": {
    "collapsed": false,
    "ExecuteTime": {
     "end_time": "2023-11-26T09:31:54.640928Z",
     "start_time": "2023-11-26T09:31:54.601739Z"
    }
   }
  },
  {
   "cell_type": "code",
   "execution_count": 7,
   "outputs": [
    {
     "data": {
      "text/plain": "                age  length_screw     diameter  middle_diameter  \\\ncount   9990.000000   9970.000000  9990.000000      4994.000000   \nunique          NaN           NaN          NaN              NaN   \ntop             NaN           NaN          NaN              NaN   \nfreq            NaN           NaN          NaN              NaN   \nmean      57.820420     29.885444     1.462067         3.006871   \nstd       23.368789     20.103509    40.196593         1.996277   \nmin       18.000000    -45.443865  -154.473963        -4.079200   \n25%       37.000000     16.177003   -25.098778         1.684077   \n50%       58.000000     29.801311     1.209477         2.995461   \n75%       78.000000     43.547181    28.115844         4.344913   \nmax       98.000000     99.756118   142.606375         9.735810   \n\n        hammer_strength     rank  size country  \ncount       9970.000000     9990  9950    9990  \nunique              NaN        4     5       7  \ntop                 NaN  perfect     L  Canada  \nfreq                NaN     2553  2034    1459  \nmean          14.701874      NaN   NaN     NaN  \nstd          101.184493      NaN   NaN     NaN  \nmin         -376.367170      NaN   NaN     NaN  \n25%          -52.087874      NaN   NaN     NaN  \n50%           14.201412      NaN   NaN     NaN  \n75%           81.566187      NaN   NaN     NaN  \nmax          344.912921      NaN   NaN     NaN  ",
      "text/html": "<div>\n<style scoped>\n    .dataframe tbody tr th:only-of-type {\n        vertical-align: middle;\n    }\n\n    .dataframe tbody tr th {\n        vertical-align: top;\n    }\n\n    .dataframe thead th {\n        text-align: right;\n    }\n</style>\n<table border=\"1\" class=\"dataframe\">\n  <thead>\n    <tr style=\"text-align: right;\">\n      <th></th>\n      <th>age</th>\n      <th>length_screw</th>\n      <th>diameter</th>\n      <th>middle_diameter</th>\n      <th>hammer_strength</th>\n      <th>rank</th>\n      <th>size</th>\n      <th>country</th>\n    </tr>\n  </thead>\n  <tbody>\n    <tr>\n      <th>count</th>\n      <td>9990.000000</td>\n      <td>9970.000000</td>\n      <td>9990.000000</td>\n      <td>4994.000000</td>\n      <td>9970.000000</td>\n      <td>9990</td>\n      <td>9950</td>\n      <td>9990</td>\n    </tr>\n    <tr>\n      <th>unique</th>\n      <td>NaN</td>\n      <td>NaN</td>\n      <td>NaN</td>\n      <td>NaN</td>\n      <td>NaN</td>\n      <td>4</td>\n      <td>5</td>\n      <td>7</td>\n    </tr>\n    <tr>\n      <th>top</th>\n      <td>NaN</td>\n      <td>NaN</td>\n      <td>NaN</td>\n      <td>NaN</td>\n      <td>NaN</td>\n      <td>perfect</td>\n      <td>L</td>\n      <td>Canada</td>\n    </tr>\n    <tr>\n      <th>freq</th>\n      <td>NaN</td>\n      <td>NaN</td>\n      <td>NaN</td>\n      <td>NaN</td>\n      <td>NaN</td>\n      <td>2553</td>\n      <td>2034</td>\n      <td>1459</td>\n    </tr>\n    <tr>\n      <th>mean</th>\n      <td>57.820420</td>\n      <td>29.885444</td>\n      <td>1.462067</td>\n      <td>3.006871</td>\n      <td>14.701874</td>\n      <td>NaN</td>\n      <td>NaN</td>\n      <td>NaN</td>\n    </tr>\n    <tr>\n      <th>std</th>\n      <td>23.368789</td>\n      <td>20.103509</td>\n      <td>40.196593</td>\n      <td>1.996277</td>\n      <td>101.184493</td>\n      <td>NaN</td>\n      <td>NaN</td>\n      <td>NaN</td>\n    </tr>\n    <tr>\n      <th>min</th>\n      <td>18.000000</td>\n      <td>-45.443865</td>\n      <td>-154.473963</td>\n      <td>-4.079200</td>\n      <td>-376.367170</td>\n      <td>NaN</td>\n      <td>NaN</td>\n      <td>NaN</td>\n    </tr>\n    <tr>\n      <th>25%</th>\n      <td>37.000000</td>\n      <td>16.177003</td>\n      <td>-25.098778</td>\n      <td>1.684077</td>\n      <td>-52.087874</td>\n      <td>NaN</td>\n      <td>NaN</td>\n      <td>NaN</td>\n    </tr>\n    <tr>\n      <th>50%</th>\n      <td>58.000000</td>\n      <td>29.801311</td>\n      <td>1.209477</td>\n      <td>2.995461</td>\n      <td>14.201412</td>\n      <td>NaN</td>\n      <td>NaN</td>\n      <td>NaN</td>\n    </tr>\n    <tr>\n      <th>75%</th>\n      <td>78.000000</td>\n      <td>43.547181</td>\n      <td>28.115844</td>\n      <td>4.344913</td>\n      <td>81.566187</td>\n      <td>NaN</td>\n      <td>NaN</td>\n      <td>NaN</td>\n    </tr>\n    <tr>\n      <th>max</th>\n      <td>98.000000</td>\n      <td>99.756118</td>\n      <td>142.606375</td>\n      <td>9.735810</td>\n      <td>344.912921</td>\n      <td>NaN</td>\n      <td>NaN</td>\n      <td>NaN</td>\n    </tr>\n  </tbody>\n</table>\n</div>"
     },
     "execution_count": 7,
     "metadata": {},
     "output_type": "execute_result"
    }
   ],
   "source": [
    "playground.describe(include='all') # to include categorical data into report"
   ],
   "metadata": {
    "collapsed": false,
    "ExecuteTime": {
     "end_time": "2023-11-26T09:32:15.983351Z",
     "start_time": "2023-11-26T09:32:15.922237Z"
    }
   }
  },
  {
   "cell_type": "markdown",
   "source": [
    "- Percentile 25, for example, means that 25% of the data is less or equal 37 (for age, for example).\n",
    "- A trick to check if the distribution is ok: check the median (50%) and mean, check if they are ore or less the same. Normal or skew distribution.\n",
    "- We use describe to get idea about the data we have."
   ],
   "metadata": {
    "collapsed": false
   }
  },
  {
   "cell_type": "markdown",
   "source": [
    "While for numerical columns we get a quite complete overview of the features, for categorical columns we get less information. To obtain a distribution of the unique values in a specific column, we use the value_counts() method. It returns the frequency of each category in a column."
   ],
   "metadata": {
    "collapsed": false
   }
  },
  {
   "cell_type": "code",
   "execution_count": 8,
   "outputs": [
    {
     "data": {
      "text/plain": "size\nL      2034\nXXL    2011\nM      1989\nS      1976\nXL     1940\nName: count, dtype: int64"
     },
     "execution_count": 8,
     "metadata": {},
     "output_type": "execute_result"
    }
   ],
   "source": [
    "playground['size'].value_counts()"
   ],
   "metadata": {
    "collapsed": false,
    "ExecuteTime": {
     "end_time": "2023-11-26T09:41:49.404623Z",
     "start_time": "2023-11-26T09:41:49.377551Z"
    }
   }
  },
  {
   "cell_type": "code",
   "execution_count": 9,
   "outputs": [
    {
     "data": {
      "text/plain": "country\nCanada     1459\nGermany    1443\nSpain      1438\nAustria    1425\nFrance     1423\nDenmark    1405\nItaly      1397\nName: count, dtype: int64"
     },
     "execution_count": 9,
     "metadata": {},
     "output_type": "execute_result"
    }
   ],
   "source": [
    "playground.country.value_counts()"
   ],
   "metadata": {
    "collapsed": false,
    "ExecuteTime": {
     "end_time": "2023-11-26T09:42:16.908001Z",
     "start_time": "2023-11-26T09:42:16.882683Z"
    }
   }
  },
  {
   "cell_type": "code",
   "execution_count": 10,
   "outputs": [
    {
     "data": {
      "text/plain": "size  country\nS     Italy      315\nL     Germany    311\nXXL   Canada     305\nL     Canada     305\n      Austria    302\n      France     302\nM     Germany    299\nXL    Canada     297\nXXL   Spain      294\n      Denmark    293\nS     Austria    292\nM     Spain      291\nXXL   Italy      287\nM     Denmark    286\nXL    Spain      286\nS     France     286\nXL    Germany    285\n      Austria    285\nXXL   Germany    285\nM     Italy      284\nL     Spain      283\nS     Spain      283\nL     Denmark    280\nM     Canada     279\nXXL   France     278\nM     France     277\nS     Denmark    274\nM     Austria    273\nXL    France     271\nS     Canada     269\nXXL   Austria    269\nXL    Denmark    263\nS     Germany    257\nXL    Italy      253\nL     Italy      251\nName: count, dtype: int64"
     },
     "execution_count": 10,
     "metadata": {},
     "output_type": "execute_result"
    }
   ],
   "source": [
    "playground[['size', 'country']].value_counts()"
   ],
   "metadata": {
    "collapsed": false,
    "ExecuteTime": {
     "end_time": "2023-11-26T09:44:11.992633Z",
     "start_time": "2023-11-26T09:44:11.952349Z"
    }
   }
  },
  {
   "cell_type": "markdown",
   "source": [
    "## Feature Engineering - Data Preprocessing\n",
    "### Dealing with missing data\n",
    "In Pandas there are methods which help to locate missing values. One of them is isnull()."
   ],
   "metadata": {
    "collapsed": false
   }
  },
  {
   "cell_type": "code",
   "execution_count": 12,
   "outputs": [
    {
     "data": {
      "text/plain": "     age  length_screw  diameter  middle_diameter  hammer_strength   rank  \\\n0  False         False     False            False            False  False   \n1  False         False     False             True            False  False   \n2  False         False     False            False            False  False   \n3  False         False     False            False            False  False   \n4  False         False     False             True            False  False   \n5  False         False     False            False            False  False   \n6  False         False     False             True            False  False   \n7  False         False     False             True            False  False   \n8  False         False     False            False            False  False   \n9  False         False     False            False            False  False   \n\n    size  country  \n0  False    False  \n1  False    False  \n2  False    False  \n3  False    False  \n4  False    False  \n5  False    False  \n6  False    False  \n7  False    False  \n8  False    False  \n9  False    False  ",
      "text/html": "<div>\n<style scoped>\n    .dataframe tbody tr th:only-of-type {\n        vertical-align: middle;\n    }\n\n    .dataframe tbody tr th {\n        vertical-align: top;\n    }\n\n    .dataframe thead th {\n        text-align: right;\n    }\n</style>\n<table border=\"1\" class=\"dataframe\">\n  <thead>\n    <tr style=\"text-align: right;\">\n      <th></th>\n      <th>age</th>\n      <th>length_screw</th>\n      <th>diameter</th>\n      <th>middle_diameter</th>\n      <th>hammer_strength</th>\n      <th>rank</th>\n      <th>size</th>\n      <th>country</th>\n    </tr>\n  </thead>\n  <tbody>\n    <tr>\n      <th>0</th>\n      <td>False</td>\n      <td>False</td>\n      <td>False</td>\n      <td>False</td>\n      <td>False</td>\n      <td>False</td>\n      <td>False</td>\n      <td>False</td>\n    </tr>\n    <tr>\n      <th>1</th>\n      <td>False</td>\n      <td>False</td>\n      <td>False</td>\n      <td>True</td>\n      <td>False</td>\n      <td>False</td>\n      <td>False</td>\n      <td>False</td>\n    </tr>\n    <tr>\n      <th>2</th>\n      <td>False</td>\n      <td>False</td>\n      <td>False</td>\n      <td>False</td>\n      <td>False</td>\n      <td>False</td>\n      <td>False</td>\n      <td>False</td>\n    </tr>\n    <tr>\n      <th>3</th>\n      <td>False</td>\n      <td>False</td>\n      <td>False</td>\n      <td>False</td>\n      <td>False</td>\n      <td>False</td>\n      <td>False</td>\n      <td>False</td>\n    </tr>\n    <tr>\n      <th>4</th>\n      <td>False</td>\n      <td>False</td>\n      <td>False</td>\n      <td>True</td>\n      <td>False</td>\n      <td>False</td>\n      <td>False</td>\n      <td>False</td>\n    </tr>\n    <tr>\n      <th>5</th>\n      <td>False</td>\n      <td>False</td>\n      <td>False</td>\n      <td>False</td>\n      <td>False</td>\n      <td>False</td>\n      <td>False</td>\n      <td>False</td>\n    </tr>\n    <tr>\n      <th>6</th>\n      <td>False</td>\n      <td>False</td>\n      <td>False</td>\n      <td>True</td>\n      <td>False</td>\n      <td>False</td>\n      <td>False</td>\n      <td>False</td>\n    </tr>\n    <tr>\n      <th>7</th>\n      <td>False</td>\n      <td>False</td>\n      <td>False</td>\n      <td>True</td>\n      <td>False</td>\n      <td>False</td>\n      <td>False</td>\n      <td>False</td>\n    </tr>\n    <tr>\n      <th>8</th>\n      <td>False</td>\n      <td>False</td>\n      <td>False</td>\n      <td>False</td>\n      <td>False</td>\n      <td>False</td>\n      <td>False</td>\n      <td>False</td>\n    </tr>\n    <tr>\n      <th>9</th>\n      <td>False</td>\n      <td>False</td>\n      <td>False</td>\n      <td>False</td>\n      <td>False</td>\n      <td>False</td>\n      <td>False</td>\n      <td>False</td>\n    </tr>\n  </tbody>\n</table>\n</div>"
     },
     "execution_count": 12,
     "metadata": {},
     "output_type": "execute_result"
    }
   ],
   "source": [
    "playground.isnull().head(10) # binary table, True for missing values"
   ],
   "metadata": {
    "collapsed": false,
    "ExecuteTime": {
     "end_time": "2023-11-26T09:53:34.021520Z",
     "start_time": "2023-11-26T09:53:34.002933Z"
    }
   }
  },
  {
   "cell_type": "code",
   "execution_count": 13,
   "outputs": [
    {
     "data": {
      "text/plain": "        age  length_screw  diameter  middle_diameter  hammer_strength   rank  \\\n9990  False         False     False            False            False  False   \n9991  False         False     False             True            False  False   \n9992  False         False     False             True            False  False   \n9993  False         False     False            False            False  False   \n9994  False         False     False            False            False  False   \n9995  False         False     False            False            False  False   \n9996  False         False     False            False            False  False   \n9997  False         False     False            False            False  False   \n9998  False         False     False             True            False  False   \n9999  False         False     False            False            False  False   \n\n       size  country  \n9990  False    False  \n9991  False    False  \n9992  False    False  \n9993  False    False  \n9994  False    False  \n9995  False    False  \n9996  False    False  \n9997  False    False  \n9998  False    False  \n9999  False    False  ",
      "text/html": "<div>\n<style scoped>\n    .dataframe tbody tr th:only-of-type {\n        vertical-align: middle;\n    }\n\n    .dataframe tbody tr th {\n        vertical-align: top;\n    }\n\n    .dataframe thead th {\n        text-align: right;\n    }\n</style>\n<table border=\"1\" class=\"dataframe\">\n  <thead>\n    <tr style=\"text-align: right;\">\n      <th></th>\n      <th>age</th>\n      <th>length_screw</th>\n      <th>diameter</th>\n      <th>middle_diameter</th>\n      <th>hammer_strength</th>\n      <th>rank</th>\n      <th>size</th>\n      <th>country</th>\n    </tr>\n  </thead>\n  <tbody>\n    <tr>\n      <th>9990</th>\n      <td>False</td>\n      <td>False</td>\n      <td>False</td>\n      <td>False</td>\n      <td>False</td>\n      <td>False</td>\n      <td>False</td>\n      <td>False</td>\n    </tr>\n    <tr>\n      <th>9991</th>\n      <td>False</td>\n      <td>False</td>\n      <td>False</td>\n      <td>True</td>\n      <td>False</td>\n      <td>False</td>\n      <td>False</td>\n      <td>False</td>\n    </tr>\n    <tr>\n      <th>9992</th>\n      <td>False</td>\n      <td>False</td>\n      <td>False</td>\n      <td>True</td>\n      <td>False</td>\n      <td>False</td>\n      <td>False</td>\n      <td>False</td>\n    </tr>\n    <tr>\n      <th>9993</th>\n      <td>False</td>\n      <td>False</td>\n      <td>False</td>\n      <td>False</td>\n      <td>False</td>\n      <td>False</td>\n      <td>False</td>\n      <td>False</td>\n    </tr>\n    <tr>\n      <th>9994</th>\n      <td>False</td>\n      <td>False</td>\n      <td>False</td>\n      <td>False</td>\n      <td>False</td>\n      <td>False</td>\n      <td>False</td>\n      <td>False</td>\n    </tr>\n    <tr>\n      <th>9995</th>\n      <td>False</td>\n      <td>False</td>\n      <td>False</td>\n      <td>False</td>\n      <td>False</td>\n      <td>False</td>\n      <td>False</td>\n      <td>False</td>\n    </tr>\n    <tr>\n      <th>9996</th>\n      <td>False</td>\n      <td>False</td>\n      <td>False</td>\n      <td>False</td>\n      <td>False</td>\n      <td>False</td>\n      <td>False</td>\n      <td>False</td>\n    </tr>\n    <tr>\n      <th>9997</th>\n      <td>False</td>\n      <td>False</td>\n      <td>False</td>\n      <td>False</td>\n      <td>False</td>\n      <td>False</td>\n      <td>False</td>\n      <td>False</td>\n    </tr>\n    <tr>\n      <th>9998</th>\n      <td>False</td>\n      <td>False</td>\n      <td>False</td>\n      <td>True</td>\n      <td>False</td>\n      <td>False</td>\n      <td>False</td>\n      <td>False</td>\n    </tr>\n    <tr>\n      <th>9999</th>\n      <td>False</td>\n      <td>False</td>\n      <td>False</td>\n      <td>False</td>\n      <td>False</td>\n      <td>False</td>\n      <td>False</td>\n      <td>False</td>\n    </tr>\n  </tbody>\n</table>\n</div>"
     },
     "execution_count": 13,
     "metadata": {},
     "output_type": "execute_result"
    }
   ],
   "source": [
    "playground.isnull().tail(10) # same but for the LAST 10 entries instead"
   ],
   "metadata": {
    "collapsed": false,
    "ExecuteTime": {
     "end_time": "2023-11-26T09:54:53.557587Z",
     "start_time": "2023-11-26T09:54:53.527099Z"
    }
   }
  },
  {
   "cell_type": "markdown",
   "source": [
    "We can count the number of missing values per column by the method sum() for a boolean DataFrame."
   ],
   "metadata": {
    "collapsed": false
   }
  },
  {
   "cell_type": "code",
   "execution_count": 14,
   "outputs": [
    {
     "data": {
      "text/plain": "age                  10\nlength_screw         30\ndiameter             10\nmiddle_diameter    5006\nhammer_strength      30\nrank                 10\nsize                 50\ncountry              10\ndtype: int64"
     },
     "execution_count": 14,
     "metadata": {},
     "output_type": "execute_result"
    }
   ],
   "source": [
    "playground.isnull().sum(axis=0) # axis = 1 for rows, axis = 0 for columns"
   ],
   "metadata": {
    "collapsed": false,
    "ExecuteTime": {
     "end_time": "2023-11-26T09:56:20.029858Z",
     "start_time": "2023-11-26T09:56:19.992138Z"
    }
   }
  },
  {
   "cell_type": "markdown",
   "source": [
    "- Task: get the number of rows containing at least one missing value.\n",
    "- If we evaluate a comparison operator like df > value, we get a boolean DataFrame. The same holds for Series - pandas.Series, aka a single row or column."
   ],
   "metadata": {
    "collapsed": false
   }
  },
  {
   "cell_type": "code",
   "execution_count": 15,
   "outputs": [
    {
     "data": {
      "text/plain": "5039"
     },
     "execution_count": 15,
     "metadata": {},
     "output_type": "execute_result"
    }
   ],
   "source": [
    "(playground.isnull().sum(axis=1) > 0).sum()"
   ],
   "metadata": {
    "collapsed": false,
    "ExecuteTime": {
     "end_time": "2023-11-26T10:00:31.437371Z",
     "start_time": "2023-11-26T10:00:31.424339Z"
    }
   }
  },
  {
   "cell_type": "code",
   "execution_count": 16,
   "outputs": [
    {
     "data": {
      "text/plain": "0       False\n1        True\n2       False\n3       False\n4        True\n        ...  \n9995    False\n9996    False\n9997    False\n9998     True\n9999    False\nLength: 10000, dtype: bool"
     },
     "execution_count": 16,
     "metadata": {},
     "output_type": "execute_result"
    }
   ],
   "source": [
    "playground.isnull().sum(axis=1) > 0"
   ],
   "metadata": {
    "collapsed": false,
    "ExecuteTime": {
     "end_time": "2023-11-26T10:02:24.136177Z",
     "start_time": "2023-11-26T10:02:24.082605Z"
    }
   }
  },
  {
   "cell_type": "markdown",
   "source": [
    "- True means that row contains at least one missing value."
   ],
   "metadata": {
    "collapsed": false
   }
  },
  {
   "cell_type": "code",
   "execution_count": 19,
   "outputs": [
    {
     "data": {
      "text/plain": "10"
     },
     "execution_count": 19,
     "metadata": {},
     "output_type": "execute_result"
    }
   ],
   "source": [
    "(playground.isnull().sum(axis=1) > 3).sum()"
   ],
   "metadata": {
    "collapsed": false,
    "ExecuteTime": {
     "end_time": "2023-11-26T10:04:28.563891Z",
     "start_time": "2023-11-26T10:04:28.529380Z"
    }
   }
  },
  {
   "cell_type": "markdown",
   "source": [
    "How to deal with missing value after we identified it?\n",
    "Option 1: to drop missing value. We drop either row, or column from the data. It's done by the method dropna().\n",
    "Option 2: apply method to fill in the gap. Data imputation."
   ],
   "metadata": {
    "collapsed": false
   }
  },
  {
   "cell_type": "code",
   "execution_count": 22,
   "outputs": [
    {
     "data": {
      "text/plain": "       age  length_screw   diameter  middle_diameter  hammer_strength  \\\n0     47.0     39.537837  17.053504         4.301665        46.389102   \n2     72.0     40.686959 -21.411874         2.578786       -34.345003   \n3     23.0     60.179331  39.712469         3.065198       118.023664   \n5     65.0     52.287209  12.532527         4.092027        44.922023   \n8     65.0     51.078399 -22.971850         4.033592       -33.540389   \n...    ...           ...        ...              ...              ...   \n9994  76.0     37.231863 -23.314827         2.293006       -38.269593   \n9995  80.0     29.688847  -8.900835         5.830887       -15.037037   \n9996  35.0     23.757652  54.140757         3.128091       124.841787   \n9997  31.0      7.493367 -32.458441         2.022378       -83.878678   \n9999  76.0     28.463501  22.295653         4.978659        55.307215   \n\n         rank size  country  \n0      medium    L  Denmark  \n2      medium    L  Austria  \n3     perfect   XL  Austria  \n5         bad    M  Austria  \n8        good    S  Denmark  \n...       ...  ...      ...  \n9994  perfect    S    Italy  \n9995     good  XXL  Denmark  \n9996   medium    L  Germany  \n9997  perfect    L   France  \n9999  perfect  XXL    Italy  \n\n[4961 rows x 8 columns]",
      "text/html": "<div>\n<style scoped>\n    .dataframe tbody tr th:only-of-type {\n        vertical-align: middle;\n    }\n\n    .dataframe tbody tr th {\n        vertical-align: top;\n    }\n\n    .dataframe thead th {\n        text-align: right;\n    }\n</style>\n<table border=\"1\" class=\"dataframe\">\n  <thead>\n    <tr style=\"text-align: right;\">\n      <th></th>\n      <th>age</th>\n      <th>length_screw</th>\n      <th>diameter</th>\n      <th>middle_diameter</th>\n      <th>hammer_strength</th>\n      <th>rank</th>\n      <th>size</th>\n      <th>country</th>\n    </tr>\n  </thead>\n  <tbody>\n    <tr>\n      <th>0</th>\n      <td>47.0</td>\n      <td>39.537837</td>\n      <td>17.053504</td>\n      <td>4.301665</td>\n      <td>46.389102</td>\n      <td>medium</td>\n      <td>L</td>\n      <td>Denmark</td>\n    </tr>\n    <tr>\n      <th>2</th>\n      <td>72.0</td>\n      <td>40.686959</td>\n      <td>-21.411874</td>\n      <td>2.578786</td>\n      <td>-34.345003</td>\n      <td>medium</td>\n      <td>L</td>\n      <td>Austria</td>\n    </tr>\n    <tr>\n      <th>3</th>\n      <td>23.0</td>\n      <td>60.179331</td>\n      <td>39.712469</td>\n      <td>3.065198</td>\n      <td>118.023664</td>\n      <td>perfect</td>\n      <td>XL</td>\n      <td>Austria</td>\n    </tr>\n    <tr>\n      <th>5</th>\n      <td>65.0</td>\n      <td>52.287209</td>\n      <td>12.532527</td>\n      <td>4.092027</td>\n      <td>44.922023</td>\n      <td>bad</td>\n      <td>M</td>\n      <td>Austria</td>\n    </tr>\n    <tr>\n      <th>8</th>\n      <td>65.0</td>\n      <td>51.078399</td>\n      <td>-22.971850</td>\n      <td>4.033592</td>\n      <td>-33.540389</td>\n      <td>good</td>\n      <td>S</td>\n      <td>Denmark</td>\n    </tr>\n    <tr>\n      <th>...</th>\n      <td>...</td>\n      <td>...</td>\n      <td>...</td>\n      <td>...</td>\n      <td>...</td>\n      <td>...</td>\n      <td>...</td>\n      <td>...</td>\n    </tr>\n    <tr>\n      <th>9994</th>\n      <td>76.0</td>\n      <td>37.231863</td>\n      <td>-23.314827</td>\n      <td>2.293006</td>\n      <td>-38.269593</td>\n      <td>perfect</td>\n      <td>S</td>\n      <td>Italy</td>\n    </tr>\n    <tr>\n      <th>9995</th>\n      <td>80.0</td>\n      <td>29.688847</td>\n      <td>-8.900835</td>\n      <td>5.830887</td>\n      <td>-15.037037</td>\n      <td>good</td>\n      <td>XXL</td>\n      <td>Denmark</td>\n    </tr>\n    <tr>\n      <th>9996</th>\n      <td>35.0</td>\n      <td>23.757652</td>\n      <td>54.140757</td>\n      <td>3.128091</td>\n      <td>124.841787</td>\n      <td>medium</td>\n      <td>L</td>\n      <td>Germany</td>\n    </tr>\n    <tr>\n      <th>9997</th>\n      <td>31.0</td>\n      <td>7.493367</td>\n      <td>-32.458441</td>\n      <td>2.022378</td>\n      <td>-83.878678</td>\n      <td>perfect</td>\n      <td>L</td>\n      <td>France</td>\n    </tr>\n    <tr>\n      <th>9999</th>\n      <td>76.0</td>\n      <td>28.463501</td>\n      <td>22.295653</td>\n      <td>4.978659</td>\n      <td>55.307215</td>\n      <td>perfect</td>\n      <td>XXL</td>\n      <td>Italy</td>\n    </tr>\n  </tbody>\n</table>\n<p>4961 rows × 8 columns</p>\n</div>"
     },
     "execution_count": 22,
     "metadata": {},
     "output_type": "execute_result"
    }
   ],
   "source": [
    "playground.dropna(axis=0) # drop all rows with at least one missing value"
   ],
   "metadata": {
    "collapsed": false,
    "ExecuteTime": {
     "end_time": "2023-11-26T10:10:10.734519Z",
     "start_time": "2023-11-26T10:10:10.712399Z"
    }
   }
  },
  {
   "cell_type": "markdown",
   "source": [
    "- It's not a good solution because we removed more than half of the data.\n",
    "- We didn't actually remove data from the DataFrame, we just returned a new one. The original set remains untouched, unless we applied inplace=True parameter.\n",
    "- We can't remove all features with missing data, because this way we delete all the data."
   ],
   "metadata": {
    "collapsed": false
   }
  },
  {
   "cell_type": "code",
   "execution_count": 23,
   "outputs": [
    {
     "data": {
      "text/plain": "Empty DataFrame\nColumns: []\nIndex: [0, 1, 2, 3, 4, 5, 6, 7, 8, 9, 10, 11, 12, 13, 14, 15, 16, 17, 18, 19, 20, 21, 22, 23, 24, 25, 26, 27, 28, 29, 30, 31, 32, 33, 34, 35, 36, 37, 38, 39, 40, 41, 42, 43, 44, 45, 46, 47, 48, 49, 50, 51, 52, 53, 54, 55, 56, 57, 58, 59, 60, 61, 62, 63, 64, 65, 66, 67, 68, 69, 70, 71, 72, 73, 74, 75, 76, 77, 78, 79, 80, 81, 82, 83, 84, 85, 86, 87, 88, 89, 90, 91, 92, 93, 94, 95, 96, 97, 98, 99, ...]\n\n[10000 rows x 0 columns]",
      "text/html": "<div>\n<style scoped>\n    .dataframe tbody tr th:only-of-type {\n        vertical-align: middle;\n    }\n\n    .dataframe tbody tr th {\n        vertical-align: top;\n    }\n\n    .dataframe thead th {\n        text-align: right;\n    }\n</style>\n<table border=\"1\" class=\"dataframe\">\n  <thead>\n    <tr style=\"text-align: right;\">\n      <th></th>\n    </tr>\n  </thead>\n  <tbody>\n    <tr>\n      <th>0</th>\n    </tr>\n    <tr>\n      <th>1</th>\n    </tr>\n    <tr>\n      <th>2</th>\n    </tr>\n    <tr>\n      <th>3</th>\n    </tr>\n    <tr>\n      <th>4</th>\n    </tr>\n    <tr>\n      <th>...</th>\n    </tr>\n    <tr>\n      <th>9995</th>\n    </tr>\n    <tr>\n      <th>9996</th>\n    </tr>\n    <tr>\n      <th>9997</th>\n    </tr>\n    <tr>\n      <th>9998</th>\n    </tr>\n    <tr>\n      <th>9999</th>\n    </tr>\n  </tbody>\n</table>\n<p>10000 rows × 0 columns</p>\n</div>"
     },
     "execution_count": 23,
     "metadata": {},
     "output_type": "execute_result"
    }
   ],
   "source": [
    "playground.dropna(axis=1)"
   ],
   "metadata": {
    "collapsed": false,
    "ExecuteTime": {
     "end_time": "2023-11-26T10:13:03.446416Z",
     "start_time": "2023-11-26T10:13:03.398370Z"
    }
   }
  },
  {
   "cell_type": "markdown",
   "source": [
    "The problem is middle_diameter, because it contains most of missing data (over a half). We remove it by exploiting parameter thresh in the method dropna."
   ],
   "metadata": {
    "collapsed": false
   }
  },
  {
   "cell_type": "code",
   "execution_count": 24,
   "outputs": [
    {
     "data": {
      "text/plain": "       age  length_screw   diameter  hammer_strength     rank size  country\n0     47.0     39.537837  17.053504        46.389102   medium    L  Denmark\n1     20.0     -1.034592 -67.283321      -167.451060     good  XXL  Denmark\n2     72.0     40.686959 -21.411874       -34.345003   medium    L  Austria\n3     23.0     60.179331  39.712469       118.023664  perfect   XL  Austria\n4     93.0      2.862281  33.059898        99.476390  perfect   XL  Germany\n...    ...           ...        ...              ...      ...  ...      ...\n9995  80.0     29.688847  -8.900835       -15.037037     good  XXL  Denmark\n9996  35.0     23.757652  54.140757       124.841787   medium    L  Germany\n9997  31.0      7.493367 -32.458441       -83.878678  perfect    L   France\n9998  33.0     33.341941 -36.872158       -84.604433     good    M  Austria\n9999  76.0     28.463501  22.295653        55.307215  perfect  XXL    Italy\n\n[10000 rows x 7 columns]",
      "text/html": "<div>\n<style scoped>\n    .dataframe tbody tr th:only-of-type {\n        vertical-align: middle;\n    }\n\n    .dataframe tbody tr th {\n        vertical-align: top;\n    }\n\n    .dataframe thead th {\n        text-align: right;\n    }\n</style>\n<table border=\"1\" class=\"dataframe\">\n  <thead>\n    <tr style=\"text-align: right;\">\n      <th></th>\n      <th>age</th>\n      <th>length_screw</th>\n      <th>diameter</th>\n      <th>hammer_strength</th>\n      <th>rank</th>\n      <th>size</th>\n      <th>country</th>\n    </tr>\n  </thead>\n  <tbody>\n    <tr>\n      <th>0</th>\n      <td>47.0</td>\n      <td>39.537837</td>\n      <td>17.053504</td>\n      <td>46.389102</td>\n      <td>medium</td>\n      <td>L</td>\n      <td>Denmark</td>\n    </tr>\n    <tr>\n      <th>1</th>\n      <td>20.0</td>\n      <td>-1.034592</td>\n      <td>-67.283321</td>\n      <td>-167.451060</td>\n      <td>good</td>\n      <td>XXL</td>\n      <td>Denmark</td>\n    </tr>\n    <tr>\n      <th>2</th>\n      <td>72.0</td>\n      <td>40.686959</td>\n      <td>-21.411874</td>\n      <td>-34.345003</td>\n      <td>medium</td>\n      <td>L</td>\n      <td>Austria</td>\n    </tr>\n    <tr>\n      <th>3</th>\n      <td>23.0</td>\n      <td>60.179331</td>\n      <td>39.712469</td>\n      <td>118.023664</td>\n      <td>perfect</td>\n      <td>XL</td>\n      <td>Austria</td>\n    </tr>\n    <tr>\n      <th>4</th>\n      <td>93.0</td>\n      <td>2.862281</td>\n      <td>33.059898</td>\n      <td>99.476390</td>\n      <td>perfect</td>\n      <td>XL</td>\n      <td>Germany</td>\n    </tr>\n    <tr>\n      <th>...</th>\n      <td>...</td>\n      <td>...</td>\n      <td>...</td>\n      <td>...</td>\n      <td>...</td>\n      <td>...</td>\n      <td>...</td>\n    </tr>\n    <tr>\n      <th>9995</th>\n      <td>80.0</td>\n      <td>29.688847</td>\n      <td>-8.900835</td>\n      <td>-15.037037</td>\n      <td>good</td>\n      <td>XXL</td>\n      <td>Denmark</td>\n    </tr>\n    <tr>\n      <th>9996</th>\n      <td>35.0</td>\n      <td>23.757652</td>\n      <td>54.140757</td>\n      <td>124.841787</td>\n      <td>medium</td>\n      <td>L</td>\n      <td>Germany</td>\n    </tr>\n    <tr>\n      <th>9997</th>\n      <td>31.0</td>\n      <td>7.493367</td>\n      <td>-32.458441</td>\n      <td>-83.878678</td>\n      <td>perfect</td>\n      <td>L</td>\n      <td>France</td>\n    </tr>\n    <tr>\n      <th>9998</th>\n      <td>33.0</td>\n      <td>33.341941</td>\n      <td>-36.872158</td>\n      <td>-84.604433</td>\n      <td>good</td>\n      <td>M</td>\n      <td>Austria</td>\n    </tr>\n    <tr>\n      <th>9999</th>\n      <td>76.0</td>\n      <td>28.463501</td>\n      <td>22.295653</td>\n      <td>55.307215</td>\n      <td>perfect</td>\n      <td>XXL</td>\n      <td>Italy</td>\n    </tr>\n  </tbody>\n</table>\n<p>10000 rows × 7 columns</p>\n</div>"
     },
     "execution_count": 24,
     "metadata": {},
     "output_type": "execute_result"
    }
   ],
   "source": [
    "playground.dropna(thresh=4996, axis=1)"
   ],
   "metadata": {
    "collapsed": false,
    "ExecuteTime": {
     "end_time": "2023-11-26T10:14:47.934950Z",
     "start_time": "2023-11-26T10:14:47.913761Z"
    }
   }
  },
  {
   "cell_type": "code",
   "execution_count": 26,
   "outputs": [],
   "source": [
    "playground = playground.dropna(thresh=4996, axis=1).dropna(axis=0, how='all') # dropping first all columns, then all rows"
   ],
   "metadata": {
    "collapsed": false,
    "ExecuteTime": {
     "end_time": "2023-11-26T10:18:26.410915Z",
     "start_time": "2023-11-26T10:18:26.398547Z"
    }
   }
  },
  {
   "cell_type": "code",
   "execution_count": 29,
   "outputs": [
    {
     "name": "stdout",
     "output_type": "stream",
     "text": [
      "<class 'pandas.core.frame.DataFrame'>\n",
      "Index: 9990 entries, 0 to 9999\n",
      "Data columns (total 7 columns):\n",
      " #   Column           Non-Null Count  Dtype  \n",
      "---  ------           --------------  -----  \n",
      " 0   age              9990 non-null   float64\n",
      " 1   length_screw     9970 non-null   float64\n",
      " 2   diameter         9990 non-null   float64\n",
      " 3   hammer_strength  9970 non-null   float64\n",
      " 4   rank             9990 non-null   object \n",
      " 5   size             9950 non-null   object \n",
      " 6   country          9990 non-null   object \n",
      "dtypes: float64(4), object(3)\n",
      "memory usage: 624.4+ KB\n"
     ]
    }
   ],
   "source": [
    "playground.info()"
   ],
   "metadata": {
    "collapsed": false,
    "ExecuteTime": {
     "end_time": "2023-11-26T10:19:41.826702Z",
     "start_time": "2023-11-26T10:19:41.777701Z"
    }
   }
  },
  {
   "cell_type": "markdown",
   "source": [
    "- We get not completely clean dataset, we still have some missing data to deal with.\n",
    "- We can use Mode Imputation to replace missing data. We use sklearn library for this. Specifically, we use impute.SimpleImputer.\n",
    "- fit_transform() method creates a new version of data. Creates a new column."
   ],
   "metadata": {
    "collapsed": false
   }
  },
  {
   "cell_type": "code",
   "execution_count": 37,
   "outputs": [],
   "source": [
    "si = SimpleImputer(strategy='most_frequent') # strategy is for the strategy to impute data, i.e. mode, mean, median\n",
    "playground[['size']] = si.fit_transform(playground[['size']]) # double square brackets to avoid warning"
   ],
   "metadata": {
    "collapsed": false,
    "ExecuteTime": {
     "end_time": "2023-11-26T10:29:05.120694Z",
     "start_time": "2023-11-26T10:29:05.116398Z"
    }
   }
  },
  {
   "cell_type": "markdown",
   "source": [
    "The outcome of fit_transform is a column we need. We have to substitute the column in the original data with the one we got."
   ],
   "metadata": {
    "collapsed": false
   }
  },
  {
   "cell_type": "code",
   "execution_count": 38,
   "outputs": [
    {
     "name": "stdout",
     "output_type": "stream",
     "text": [
      "<class 'pandas.core.frame.DataFrame'>\n",
      "Index: 9990 entries, 0 to 9999\n",
      "Data columns (total 7 columns):\n",
      " #   Column           Non-Null Count  Dtype  \n",
      "---  ------           --------------  -----  \n",
      " 0   age              9990 non-null   float64\n",
      " 1   length_screw     9970 non-null   float64\n",
      " 2   diameter         9990 non-null   float64\n",
      " 3   hammer_strength  9970 non-null   float64\n",
      " 4   rank             9990 non-null   object \n",
      " 5   size             9990 non-null   object \n",
      " 6   country          9990 non-null   object \n",
      "dtypes: float64(4), object(3)\n",
      "memory usage: 624.4+ KB\n"
     ]
    }
   ],
   "source": [
    "playground.info()"
   ],
   "metadata": {
    "collapsed": false,
    "ExecuteTime": {
     "end_time": "2023-11-26T10:29:16.025802Z",
     "start_time": "2023-11-26T10:29:15.985150Z"
    }
   }
  },
  {
   "cell_type": "markdown",
   "source": [
    "Now we do this for other features. This time we use strategy mean."
   ],
   "metadata": {
    "collapsed": false
   }
  },
  {
   "cell_type": "code",
   "execution_count": 39,
   "outputs": [
    {
     "name": "stdout",
     "output_type": "stream",
     "text": [
      "<class 'pandas.core.frame.DataFrame'>\n",
      "Index: 9990 entries, 0 to 9999\n",
      "Data columns (total 7 columns):\n",
      " #   Column           Non-Null Count  Dtype  \n",
      "---  ------           --------------  -----  \n",
      " 0   age              9990 non-null   float64\n",
      " 1   length_screw     9990 non-null   float64\n",
      " 2   diameter         9990 non-null   float64\n",
      " 3   hammer_strength  9990 non-null   float64\n",
      " 4   rank             9990 non-null   object \n",
      " 5   size             9990 non-null   object \n",
      " 6   country          9990 non-null   object \n",
      "dtypes: float64(4), object(3)\n",
      "memory usage: 624.4+ KB\n"
     ]
    }
   ],
   "source": [
    "si_mean = SimpleImputer(strategy='mean')\n",
    "playground[['length_screw', 'hammer_strength']] = si_mean.fit_transform(playground[['length_screw', 'hammer_strength']])\n",
    "playground.info()"
   ],
   "metadata": {
    "collapsed": false,
    "ExecuteTime": {
     "end_time": "2023-11-26T10:30:58.535152Z",
     "start_time": "2023-11-26T10:30:58.496028Z"
    }
   }
  },
  {
   "cell_type": "markdown",
   "source": [
    "### Transform Categorical Data\n",
    "#### The Pandas way\n",
    "Features size and rank in our dataset are ordinal (they can be sorted or ordered). We have to apply the most suitable transformation to them."
   ],
   "metadata": {
    "collapsed": false
   }
  },
  {
   "cell_type": "code",
   "execution_count": 43,
   "outputs": [
    {
     "data": {
      "text/plain": "size\nXL     1940\nS      1976\nM      1989\nXXL    2011\nL      2074\nName: count, dtype: int64"
     },
     "execution_count": 43,
     "metadata": {},
     "output_type": "execute_result"
    }
   ],
   "source": [
    "playground['size'].value_counts().sort_values()"
   ],
   "metadata": {
    "collapsed": false,
    "ExecuteTime": {
     "end_time": "2023-11-26T10:43:02.141670Z",
     "start_time": "2023-11-26T10:43:02.132976Z"
    }
   }
  },
  {
   "cell_type": "code",
   "execution_count": 46,
   "outputs": [],
   "source": [
    "playground['size'] = playground['size'].map({'S':0, 'M':1, 'L':2, 'XL':3, 'XXL':4})"
   ],
   "metadata": {
    "collapsed": false,
    "ExecuteTime": {
     "end_time": "2023-11-26T10:44:12.693216Z",
     "start_time": "2023-11-26T10:44:12.681698Z"
    }
   }
  },
  {
   "cell_type": "code",
   "execution_count": 47,
   "outputs": [
    {
     "data": {
      "text/plain": "    age  length_screw   diameter  hammer_strength     rank  size  country\n0  47.0     39.537837  17.053504        46.389102   medium     2  Denmark\n1  20.0     -1.034592 -67.283321      -167.451060     good     4  Denmark\n2  72.0     40.686959 -21.411874       -34.345003   medium     2  Austria\n3  23.0     60.179331  39.712469       118.023664  perfect     3  Austria\n4  93.0      2.862281  33.059898        99.476390  perfect     3  Germany\n5  65.0     52.287209  12.532527        44.922023      bad     1  Austria\n6  61.0     15.333484  56.060051       139.342117  perfect     0    Italy\n7  45.0     34.528579  18.256918        60.614833     good     2  Austria\n8  65.0     51.078399 -22.971850       -33.540389     good     0  Denmark\n9  98.0     26.075552 -42.128512       -96.732981  perfect     1   France",
      "text/html": "<div>\n<style scoped>\n    .dataframe tbody tr th:only-of-type {\n        vertical-align: middle;\n    }\n\n    .dataframe tbody tr th {\n        vertical-align: top;\n    }\n\n    .dataframe thead th {\n        text-align: right;\n    }\n</style>\n<table border=\"1\" class=\"dataframe\">\n  <thead>\n    <tr style=\"text-align: right;\">\n      <th></th>\n      <th>age</th>\n      <th>length_screw</th>\n      <th>diameter</th>\n      <th>hammer_strength</th>\n      <th>rank</th>\n      <th>size</th>\n      <th>country</th>\n    </tr>\n  </thead>\n  <tbody>\n    <tr>\n      <th>0</th>\n      <td>47.0</td>\n      <td>39.537837</td>\n      <td>17.053504</td>\n      <td>46.389102</td>\n      <td>medium</td>\n      <td>2</td>\n      <td>Denmark</td>\n    </tr>\n    <tr>\n      <th>1</th>\n      <td>20.0</td>\n      <td>-1.034592</td>\n      <td>-67.283321</td>\n      <td>-167.451060</td>\n      <td>good</td>\n      <td>4</td>\n      <td>Denmark</td>\n    </tr>\n    <tr>\n      <th>2</th>\n      <td>72.0</td>\n      <td>40.686959</td>\n      <td>-21.411874</td>\n      <td>-34.345003</td>\n      <td>medium</td>\n      <td>2</td>\n      <td>Austria</td>\n    </tr>\n    <tr>\n      <th>3</th>\n      <td>23.0</td>\n      <td>60.179331</td>\n      <td>39.712469</td>\n      <td>118.023664</td>\n      <td>perfect</td>\n      <td>3</td>\n      <td>Austria</td>\n    </tr>\n    <tr>\n      <th>4</th>\n      <td>93.0</td>\n      <td>2.862281</td>\n      <td>33.059898</td>\n      <td>99.476390</td>\n      <td>perfect</td>\n      <td>3</td>\n      <td>Germany</td>\n    </tr>\n    <tr>\n      <th>5</th>\n      <td>65.0</td>\n      <td>52.287209</td>\n      <td>12.532527</td>\n      <td>44.922023</td>\n      <td>bad</td>\n      <td>1</td>\n      <td>Austria</td>\n    </tr>\n    <tr>\n      <th>6</th>\n      <td>61.0</td>\n      <td>15.333484</td>\n      <td>56.060051</td>\n      <td>139.342117</td>\n      <td>perfect</td>\n      <td>0</td>\n      <td>Italy</td>\n    </tr>\n    <tr>\n      <th>7</th>\n      <td>45.0</td>\n      <td>34.528579</td>\n      <td>18.256918</td>\n      <td>60.614833</td>\n      <td>good</td>\n      <td>2</td>\n      <td>Austria</td>\n    </tr>\n    <tr>\n      <th>8</th>\n      <td>65.0</td>\n      <td>51.078399</td>\n      <td>-22.971850</td>\n      <td>-33.540389</td>\n      <td>good</td>\n      <td>0</td>\n      <td>Denmark</td>\n    </tr>\n    <tr>\n      <th>9</th>\n      <td>98.0</td>\n      <td>26.075552</td>\n      <td>-42.128512</td>\n      <td>-96.732981</td>\n      <td>perfect</td>\n      <td>1</td>\n      <td>France</td>\n    </tr>\n  </tbody>\n</table>\n</div>"
     },
     "execution_count": 47,
     "metadata": {},
     "output_type": "execute_result"
    }
   ],
   "source": [
    "playground.head(10)"
   ],
   "metadata": {
    "collapsed": false,
    "ExecuteTime": {
     "end_time": "2023-11-26T10:44:21.775782Z",
     "start_time": "2023-11-26T10:44:21.709462Z"
    }
   }
  },
  {
   "cell_type": "code",
   "execution_count": 48,
   "outputs": [
    {
     "data": {
      "text/plain": "rank\nbad        2461\ngood       2486\nmedium     2490\nperfect    2553\nName: count, dtype: int64"
     },
     "execution_count": 48,
     "metadata": {},
     "output_type": "execute_result"
    }
   ],
   "source": [
    "playground['rank'].value_counts().sort_values()"
   ],
   "metadata": {
    "collapsed": false,
    "ExecuteTime": {
     "end_time": "2023-11-26T10:44:46.012270Z",
     "start_time": "2023-11-26T10:44:46.002720Z"
    }
   }
  },
  {
   "cell_type": "code",
   "execution_count": 49,
   "outputs": [
    {
     "data": {
      "text/plain": "    age  length_screw   diameter  hammer_strength  rank  size  country\n0  47.0     39.537837  17.053504        46.389102     1     2  Denmark\n1  20.0     -1.034592 -67.283321      -167.451060     2     4  Denmark\n2  72.0     40.686959 -21.411874       -34.345003     1     2  Austria\n3  23.0     60.179331  39.712469       118.023664     3     3  Austria\n4  93.0      2.862281  33.059898        99.476390     3     3  Germany\n5  65.0     52.287209  12.532527        44.922023     0     1  Austria\n6  61.0     15.333484  56.060051       139.342117     3     0    Italy\n7  45.0     34.528579  18.256918        60.614833     2     2  Austria\n8  65.0     51.078399 -22.971850       -33.540389     2     0  Denmark\n9  98.0     26.075552 -42.128512       -96.732981     3     1   France",
      "text/html": "<div>\n<style scoped>\n    .dataframe tbody tr th:only-of-type {\n        vertical-align: middle;\n    }\n\n    .dataframe tbody tr th {\n        vertical-align: top;\n    }\n\n    .dataframe thead th {\n        text-align: right;\n    }\n</style>\n<table border=\"1\" class=\"dataframe\">\n  <thead>\n    <tr style=\"text-align: right;\">\n      <th></th>\n      <th>age</th>\n      <th>length_screw</th>\n      <th>diameter</th>\n      <th>hammer_strength</th>\n      <th>rank</th>\n      <th>size</th>\n      <th>country</th>\n    </tr>\n  </thead>\n  <tbody>\n    <tr>\n      <th>0</th>\n      <td>47.0</td>\n      <td>39.537837</td>\n      <td>17.053504</td>\n      <td>46.389102</td>\n      <td>1</td>\n      <td>2</td>\n      <td>Denmark</td>\n    </tr>\n    <tr>\n      <th>1</th>\n      <td>20.0</td>\n      <td>-1.034592</td>\n      <td>-67.283321</td>\n      <td>-167.451060</td>\n      <td>2</td>\n      <td>4</td>\n      <td>Denmark</td>\n    </tr>\n    <tr>\n      <th>2</th>\n      <td>72.0</td>\n      <td>40.686959</td>\n      <td>-21.411874</td>\n      <td>-34.345003</td>\n      <td>1</td>\n      <td>2</td>\n      <td>Austria</td>\n    </tr>\n    <tr>\n      <th>3</th>\n      <td>23.0</td>\n      <td>60.179331</td>\n      <td>39.712469</td>\n      <td>118.023664</td>\n      <td>3</td>\n      <td>3</td>\n      <td>Austria</td>\n    </tr>\n    <tr>\n      <th>4</th>\n      <td>93.0</td>\n      <td>2.862281</td>\n      <td>33.059898</td>\n      <td>99.476390</td>\n      <td>3</td>\n      <td>3</td>\n      <td>Germany</td>\n    </tr>\n    <tr>\n      <th>5</th>\n      <td>65.0</td>\n      <td>52.287209</td>\n      <td>12.532527</td>\n      <td>44.922023</td>\n      <td>0</td>\n      <td>1</td>\n      <td>Austria</td>\n    </tr>\n    <tr>\n      <th>6</th>\n      <td>61.0</td>\n      <td>15.333484</td>\n      <td>56.060051</td>\n      <td>139.342117</td>\n      <td>3</td>\n      <td>0</td>\n      <td>Italy</td>\n    </tr>\n    <tr>\n      <th>7</th>\n      <td>45.0</td>\n      <td>34.528579</td>\n      <td>18.256918</td>\n      <td>60.614833</td>\n      <td>2</td>\n      <td>2</td>\n      <td>Austria</td>\n    </tr>\n    <tr>\n      <th>8</th>\n      <td>65.0</td>\n      <td>51.078399</td>\n      <td>-22.971850</td>\n      <td>-33.540389</td>\n      <td>2</td>\n      <td>0</td>\n      <td>Denmark</td>\n    </tr>\n    <tr>\n      <th>9</th>\n      <td>98.0</td>\n      <td>26.075552</td>\n      <td>-42.128512</td>\n      <td>-96.732981</td>\n      <td>3</td>\n      <td>1</td>\n      <td>France</td>\n    </tr>\n  </tbody>\n</table>\n</div>"
     },
     "execution_count": 49,
     "metadata": {},
     "output_type": "execute_result"
    }
   ],
   "source": [
    "playground['rank'] = playground['rank'].map({'bad':0, 'medium':1, 'good':2, 'perfect':3})\n",
    "playground.head(10)"
   ],
   "metadata": {
    "collapsed": false,
    "ExecuteTime": {
     "end_time": "2023-11-26T10:45:27.542267Z",
     "start_time": "2023-11-26T10:45:27.491305Z"
    }
   }
  },
  {
   "cell_type": "markdown",
   "source": [
    "The feature country is nominal, we can't actually sort it. We need to use sklearn library for this.\n",
    "\n",
    "#### The Sklearn way\n",
    "In sklearn library, we use OrdinalEncoder for ordinal features and OneHotEncoder for nominal features.\n",
    "\n",
    "One of the parameters in the OrdinalEncoder constructor is categories. It is used to specify the order of the categories in the i-th feature. Specifically we can pass a list of lists/array."
   ],
   "metadata": {
    "collapsed": false
   }
  },
  {
   "cell_type": "code",
   "execution_count": null,
   "outputs": [],
   "source": [],
   "metadata": {
    "collapsed": false
   }
  },
  {
   "cell_type": "code",
   "execution_count": 50,
   "outputs": [
    {
     "ename": "ValueError",
     "evalue": "invalid literal for int() with base 10: 'S'",
     "output_type": "error",
     "traceback": [
      "\u001B[0;31m---------------------------------------------------------------------------\u001B[0m",
      "\u001B[0;31mValueError\u001B[0m                                Traceback (most recent call last)",
      "Cell \u001B[0;32mIn[50], line 2\u001B[0m\n\u001B[1;32m      1\u001B[0m oe_size \u001B[38;5;241m=\u001B[39m OrdinalEncoder(categories\u001B[38;5;241m=\u001B[39m[[\u001B[38;5;124m'\u001B[39m\u001B[38;5;124mS\u001B[39m\u001B[38;5;124m'\u001B[39m, \u001B[38;5;124m'\u001B[39m\u001B[38;5;124mM\u001B[39m\u001B[38;5;124m'\u001B[39m, \u001B[38;5;124m'\u001B[39m\u001B[38;5;124mL\u001B[39m\u001B[38;5;124m'\u001B[39m, \u001B[38;5;124m'\u001B[39m\u001B[38;5;124mXL\u001B[39m\u001B[38;5;124m'\u001B[39m, \u001B[38;5;124m'\u001B[39m\u001B[38;5;124mXXL\u001B[39m\u001B[38;5;124m'\u001B[39m]])\n\u001B[0;32m----> 2\u001B[0m \u001B[43moe_size\u001B[49m\u001B[38;5;241;43m.\u001B[39;49m\u001B[43mfit_transform\u001B[49m\u001B[43m(\u001B[49m\u001B[43mplayground\u001B[49m\u001B[43m[\u001B[49m\u001B[43m[\u001B[49m\u001B[38;5;124;43m'\u001B[39;49m\u001B[38;5;124;43msize\u001B[39;49m\u001B[38;5;124;43m'\u001B[39;49m\u001B[43m]\u001B[49m\u001B[43m]\u001B[49m\u001B[43m)\u001B[49m\n",
      "File \u001B[0;32m~/Desktop/Machine-Learning-Course/venv/lib/python3.8/site-packages/sklearn/utils/_set_output.py:157\u001B[0m, in \u001B[0;36m_wrap_method_output.<locals>.wrapped\u001B[0;34m(self, X, *args, **kwargs)\u001B[0m\n\u001B[1;32m    155\u001B[0m \u001B[38;5;129m@wraps\u001B[39m(f)\n\u001B[1;32m    156\u001B[0m \u001B[38;5;28;01mdef\u001B[39;00m \u001B[38;5;21mwrapped\u001B[39m(\u001B[38;5;28mself\u001B[39m, X, \u001B[38;5;241m*\u001B[39margs, \u001B[38;5;241m*\u001B[39m\u001B[38;5;241m*\u001B[39mkwargs):\n\u001B[0;32m--> 157\u001B[0m     data_to_wrap \u001B[38;5;241m=\u001B[39m \u001B[43mf\u001B[49m\u001B[43m(\u001B[49m\u001B[38;5;28;43mself\u001B[39;49m\u001B[43m,\u001B[49m\u001B[43m \u001B[49m\u001B[43mX\u001B[49m\u001B[43m,\u001B[49m\u001B[43m \u001B[49m\u001B[38;5;241;43m*\u001B[39;49m\u001B[43margs\u001B[49m\u001B[43m,\u001B[49m\u001B[43m \u001B[49m\u001B[38;5;241;43m*\u001B[39;49m\u001B[38;5;241;43m*\u001B[39;49m\u001B[43mkwargs\u001B[49m\u001B[43m)\u001B[49m\n\u001B[1;32m    158\u001B[0m     \u001B[38;5;28;01mif\u001B[39;00m \u001B[38;5;28misinstance\u001B[39m(data_to_wrap, \u001B[38;5;28mtuple\u001B[39m):\n\u001B[1;32m    159\u001B[0m         \u001B[38;5;66;03m# only wrap the first output for cross decomposition\u001B[39;00m\n\u001B[1;32m    160\u001B[0m         return_tuple \u001B[38;5;241m=\u001B[39m (\n\u001B[1;32m    161\u001B[0m             _wrap_data_with_container(method, data_to_wrap[\u001B[38;5;241m0\u001B[39m], X, \u001B[38;5;28mself\u001B[39m),\n\u001B[1;32m    162\u001B[0m             \u001B[38;5;241m*\u001B[39mdata_to_wrap[\u001B[38;5;241m1\u001B[39m:],\n\u001B[1;32m    163\u001B[0m         )\n",
      "File \u001B[0;32m~/Desktop/Machine-Learning-Course/venv/lib/python3.8/site-packages/sklearn/base.py:916\u001B[0m, in \u001B[0;36mTransformerMixin.fit_transform\u001B[0;34m(self, X, y, **fit_params)\u001B[0m\n\u001B[1;32m    912\u001B[0m \u001B[38;5;66;03m# non-optimized default implementation; override when a better\u001B[39;00m\n\u001B[1;32m    913\u001B[0m \u001B[38;5;66;03m# method is possible for a given clustering algorithm\u001B[39;00m\n\u001B[1;32m    914\u001B[0m \u001B[38;5;28;01mif\u001B[39;00m y \u001B[38;5;129;01mis\u001B[39;00m \u001B[38;5;28;01mNone\u001B[39;00m:\n\u001B[1;32m    915\u001B[0m     \u001B[38;5;66;03m# fit method of arity 1 (unsupervised transformation)\u001B[39;00m\n\u001B[0;32m--> 916\u001B[0m     \u001B[38;5;28;01mreturn\u001B[39;00m \u001B[38;5;28;43mself\u001B[39;49m\u001B[38;5;241;43m.\u001B[39;49m\u001B[43mfit\u001B[49m\u001B[43m(\u001B[49m\u001B[43mX\u001B[49m\u001B[43m,\u001B[49m\u001B[43m \u001B[49m\u001B[38;5;241;43m*\u001B[39;49m\u001B[38;5;241;43m*\u001B[39;49m\u001B[43mfit_params\u001B[49m\u001B[43m)\u001B[49m\u001B[38;5;241m.\u001B[39mtransform(X)\n\u001B[1;32m    917\u001B[0m \u001B[38;5;28;01melse\u001B[39;00m:\n\u001B[1;32m    918\u001B[0m     \u001B[38;5;66;03m# fit method of arity 2 (supervised transformation)\u001B[39;00m\n\u001B[1;32m    919\u001B[0m     \u001B[38;5;28;01mreturn\u001B[39;00m \u001B[38;5;28mself\u001B[39m\u001B[38;5;241m.\u001B[39mfit(X, y, \u001B[38;5;241m*\u001B[39m\u001B[38;5;241m*\u001B[39mfit_params)\u001B[38;5;241m.\u001B[39mtransform(X)\n",
      "File \u001B[0;32m~/Desktop/Machine-Learning-Course/venv/lib/python3.8/site-packages/sklearn/base.py:1152\u001B[0m, in \u001B[0;36m_fit_context.<locals>.decorator.<locals>.wrapper\u001B[0;34m(estimator, *args, **kwargs)\u001B[0m\n\u001B[1;32m   1145\u001B[0m     estimator\u001B[38;5;241m.\u001B[39m_validate_params()\n\u001B[1;32m   1147\u001B[0m \u001B[38;5;28;01mwith\u001B[39;00m config_context(\n\u001B[1;32m   1148\u001B[0m     skip_parameter_validation\u001B[38;5;241m=\u001B[39m(\n\u001B[1;32m   1149\u001B[0m         prefer_skip_nested_validation \u001B[38;5;129;01mor\u001B[39;00m global_skip_validation\n\u001B[1;32m   1150\u001B[0m     )\n\u001B[1;32m   1151\u001B[0m ):\n\u001B[0;32m-> 1152\u001B[0m     \u001B[38;5;28;01mreturn\u001B[39;00m \u001B[43mfit_method\u001B[49m\u001B[43m(\u001B[49m\u001B[43mestimator\u001B[49m\u001B[43m,\u001B[49m\u001B[43m \u001B[49m\u001B[38;5;241;43m*\u001B[39;49m\u001B[43margs\u001B[49m\u001B[43m,\u001B[49m\u001B[43m \u001B[49m\u001B[38;5;241;43m*\u001B[39;49m\u001B[38;5;241;43m*\u001B[39;49m\u001B[43mkwargs\u001B[49m\u001B[43m)\u001B[49m\n",
      "File \u001B[0;32m~/Desktop/Machine-Learning-Course/venv/lib/python3.8/site-packages/sklearn/preprocessing/_encoders.py:1499\u001B[0m, in \u001B[0;36mOrdinalEncoder.fit\u001B[0;34m(self, X, y)\u001B[0m\n\u001B[1;32m   1492\u001B[0m     \u001B[38;5;28;01mraise\u001B[39;00m \u001B[38;5;167;01mTypeError\u001B[39;00m(\n\u001B[1;32m   1493\u001B[0m         \u001B[38;5;124m\"\u001B[39m\u001B[38;5;124munknown_value should only be set when \u001B[39m\u001B[38;5;124m\"\u001B[39m\n\u001B[1;32m   1494\u001B[0m         \u001B[38;5;124m\"\u001B[39m\u001B[38;5;124mhandle_unknown is \u001B[39m\u001B[38;5;124m'\u001B[39m\u001B[38;5;124muse_encoded_value\u001B[39m\u001B[38;5;124m'\u001B[39m\u001B[38;5;124m, \u001B[39m\u001B[38;5;124m\"\u001B[39m\n\u001B[1;32m   1495\u001B[0m         \u001B[38;5;124mf\u001B[39m\u001B[38;5;124m\"\u001B[39m\u001B[38;5;124mgot \u001B[39m\u001B[38;5;132;01m{\u001B[39;00m\u001B[38;5;28mself\u001B[39m\u001B[38;5;241m.\u001B[39munknown_value\u001B[38;5;132;01m}\u001B[39;00m\u001B[38;5;124m.\u001B[39m\u001B[38;5;124m\"\u001B[39m\n\u001B[1;32m   1496\u001B[0m     )\n\u001B[1;32m   1498\u001B[0m \u001B[38;5;66;03m# `_fit` will only raise an error when `self.handle_unknown=\"error\"`\u001B[39;00m\n\u001B[0;32m-> 1499\u001B[0m fit_results \u001B[38;5;241m=\u001B[39m \u001B[38;5;28;43mself\u001B[39;49m\u001B[38;5;241;43m.\u001B[39;49m\u001B[43m_fit\u001B[49m\u001B[43m(\u001B[49m\n\u001B[1;32m   1500\u001B[0m \u001B[43m    \u001B[49m\u001B[43mX\u001B[49m\u001B[43m,\u001B[49m\n\u001B[1;32m   1501\u001B[0m \u001B[43m    \u001B[49m\u001B[43mhandle_unknown\u001B[49m\u001B[38;5;241;43m=\u001B[39;49m\u001B[38;5;28;43mself\u001B[39;49m\u001B[38;5;241;43m.\u001B[39;49m\u001B[43mhandle_unknown\u001B[49m\u001B[43m,\u001B[49m\n\u001B[1;32m   1502\u001B[0m \u001B[43m    \u001B[49m\u001B[43mforce_all_finite\u001B[49m\u001B[38;5;241;43m=\u001B[39;49m\u001B[38;5;124;43m\"\u001B[39;49m\u001B[38;5;124;43mallow-nan\u001B[39;49m\u001B[38;5;124;43m\"\u001B[39;49m\u001B[43m,\u001B[49m\n\u001B[1;32m   1503\u001B[0m \u001B[43m    \u001B[49m\u001B[43mreturn_and_ignore_missing_for_infrequent\u001B[49m\u001B[38;5;241;43m=\u001B[39;49m\u001B[38;5;28;43;01mTrue\u001B[39;49;00m\u001B[43m,\u001B[49m\n\u001B[1;32m   1504\u001B[0m \u001B[43m\u001B[49m\u001B[43m)\u001B[49m\n\u001B[1;32m   1505\u001B[0m \u001B[38;5;28mself\u001B[39m\u001B[38;5;241m.\u001B[39m_missing_indices \u001B[38;5;241m=\u001B[39m fit_results[\u001B[38;5;124m\"\u001B[39m\u001B[38;5;124mmissing_indices\u001B[39m\u001B[38;5;124m\"\u001B[39m]\n\u001B[1;32m   1507\u001B[0m cardinalities \u001B[38;5;241m=\u001B[39m [\u001B[38;5;28mlen\u001B[39m(categories) \u001B[38;5;28;01mfor\u001B[39;00m categories \u001B[38;5;129;01min\u001B[39;00m \u001B[38;5;28mself\u001B[39m\u001B[38;5;241m.\u001B[39mcategories_]\n",
      "File \u001B[0;32m~/Desktop/Machine-Learning-Course/venv/lib/python3.8/site-packages/sklearn/preprocessing/_encoders.py:113\u001B[0m, in \u001B[0;36m_BaseEncoder._fit\u001B[0;34m(self, X, handle_unknown, force_all_finite, return_counts, return_and_ignore_missing_for_infrequent)\u001B[0m\n\u001B[1;32m    110\u001B[0m \u001B[38;5;28;01melse\u001B[39;00m:\n\u001B[1;32m    111\u001B[0m     Xi_dtype \u001B[38;5;241m=\u001B[39m Xi\u001B[38;5;241m.\u001B[39mdtype\n\u001B[0;32m--> 113\u001B[0m cats \u001B[38;5;241m=\u001B[39m \u001B[43mnp\u001B[49m\u001B[38;5;241;43m.\u001B[39;49m\u001B[43marray\u001B[49m\u001B[43m(\u001B[49m\u001B[38;5;28;43mself\u001B[39;49m\u001B[38;5;241;43m.\u001B[39;49m\u001B[43mcategories\u001B[49m\u001B[43m[\u001B[49m\u001B[43mi\u001B[49m\u001B[43m]\u001B[49m\u001B[43m,\u001B[49m\u001B[43m \u001B[49m\u001B[43mdtype\u001B[49m\u001B[38;5;241;43m=\u001B[39;49m\u001B[43mXi_dtype\u001B[49m\u001B[43m)\u001B[49m\n\u001B[1;32m    114\u001B[0m \u001B[38;5;28;01mif\u001B[39;00m (\n\u001B[1;32m    115\u001B[0m     cats\u001B[38;5;241m.\u001B[39mdtype \u001B[38;5;241m==\u001B[39m \u001B[38;5;28mobject\u001B[39m\n\u001B[1;32m    116\u001B[0m     \u001B[38;5;129;01mand\u001B[39;00m \u001B[38;5;28misinstance\u001B[39m(cats[\u001B[38;5;241m0\u001B[39m], \u001B[38;5;28mbytes\u001B[39m)\n\u001B[1;32m    117\u001B[0m     \u001B[38;5;129;01mand\u001B[39;00m Xi\u001B[38;5;241m.\u001B[39mdtype\u001B[38;5;241m.\u001B[39mkind \u001B[38;5;241m!=\u001B[39m \u001B[38;5;124m\"\u001B[39m\u001B[38;5;124mS\u001B[39m\u001B[38;5;124m\"\u001B[39m\n\u001B[1;32m    118\u001B[0m ):\n\u001B[1;32m    119\u001B[0m     msg \u001B[38;5;241m=\u001B[39m (\n\u001B[1;32m    120\u001B[0m         \u001B[38;5;124mf\u001B[39m\u001B[38;5;124m\"\u001B[39m\u001B[38;5;124mIn column \u001B[39m\u001B[38;5;132;01m{\u001B[39;00mi\u001B[38;5;132;01m}\u001B[39;00m\u001B[38;5;124m, the predefined categories have type \u001B[39m\u001B[38;5;124m'\u001B[39m\u001B[38;5;124mbytes\u001B[39m\u001B[38;5;124m'\u001B[39m\u001B[38;5;124m\"\u001B[39m\n\u001B[1;32m    121\u001B[0m         \u001B[38;5;124m\"\u001B[39m\u001B[38;5;124m which is incompatible with values of type\u001B[39m\u001B[38;5;124m\"\u001B[39m\n\u001B[1;32m    122\u001B[0m         \u001B[38;5;124mf\u001B[39m\u001B[38;5;124m\"\u001B[39m\u001B[38;5;124m \u001B[39m\u001B[38;5;124m'\u001B[39m\u001B[38;5;132;01m{\u001B[39;00m\u001B[38;5;28mtype\u001B[39m(Xi[\u001B[38;5;241m0\u001B[39m])\u001B[38;5;241m.\u001B[39m\u001B[38;5;18m__name__\u001B[39m\u001B[38;5;132;01m}\u001B[39;00m\u001B[38;5;124m'\u001B[39m\u001B[38;5;124m.\u001B[39m\u001B[38;5;124m\"\u001B[39m\n\u001B[1;32m    123\u001B[0m     )\n",
      "\u001B[0;31mValueError\u001B[0m: invalid literal for int() with base 10: 'S'"
     ]
    }
   ],
   "source": [
    "oe_size = OrdinalEncoder(categories=[['S', 'M', 'L', 'XL', 'XXL']])\n",
    "oe_size.fit_transform(playground[['size']])"
   ],
   "metadata": {
    "collapsed": false,
    "ExecuteTime": {
     "end_time": "2023-11-26T10:51:24.109849Z",
     "start_time": "2023-11-26T10:51:23.901337Z"
    }
   }
  },
  {
   "cell_type": "code",
   "execution_count": 51,
   "outputs": [
    {
     "ename": "ValueError",
     "evalue": "invalid literal for int() with base 10: 'bad'",
     "output_type": "error",
     "traceback": [
      "\u001B[0;31m---------------------------------------------------------------------------\u001B[0m",
      "\u001B[0;31mValueError\u001B[0m                                Traceback (most recent call last)",
      "Cell \u001B[0;32mIn[51], line 2\u001B[0m\n\u001B[1;32m      1\u001B[0m oe_rank \u001B[38;5;241m=\u001B[39m OrdinalEncoder(categories\u001B[38;5;241m=\u001B[39m[[\u001B[38;5;124m'\u001B[39m\u001B[38;5;124mbad\u001B[39m\u001B[38;5;124m'\u001B[39m, \u001B[38;5;124m'\u001B[39m\u001B[38;5;124mmedium\u001B[39m\u001B[38;5;124m'\u001B[39m, \u001B[38;5;124m'\u001B[39m\u001B[38;5;124mgood\u001B[39m\u001B[38;5;124m'\u001B[39m, \u001B[38;5;124m'\u001B[39m\u001B[38;5;124mperfect\u001B[39m\u001B[38;5;124m'\u001B[39m]])\n\u001B[0;32m----> 2\u001B[0m \u001B[43moe_rank\u001B[49m\u001B[38;5;241;43m.\u001B[39;49m\u001B[43mfit_transform\u001B[49m\u001B[43m(\u001B[49m\u001B[43mplayground\u001B[49m\u001B[43m[\u001B[49m\u001B[43m[\u001B[49m\u001B[38;5;124;43m'\u001B[39;49m\u001B[38;5;124;43mrank\u001B[39;49m\u001B[38;5;124;43m'\u001B[39;49m\u001B[43m]\u001B[49m\u001B[43m]\u001B[49m\u001B[43m)\u001B[49m\n",
      "File \u001B[0;32m~/Desktop/Machine-Learning-Course/venv/lib/python3.8/site-packages/sklearn/utils/_set_output.py:157\u001B[0m, in \u001B[0;36m_wrap_method_output.<locals>.wrapped\u001B[0;34m(self, X, *args, **kwargs)\u001B[0m\n\u001B[1;32m    155\u001B[0m \u001B[38;5;129m@wraps\u001B[39m(f)\n\u001B[1;32m    156\u001B[0m \u001B[38;5;28;01mdef\u001B[39;00m \u001B[38;5;21mwrapped\u001B[39m(\u001B[38;5;28mself\u001B[39m, X, \u001B[38;5;241m*\u001B[39margs, \u001B[38;5;241m*\u001B[39m\u001B[38;5;241m*\u001B[39mkwargs):\n\u001B[0;32m--> 157\u001B[0m     data_to_wrap \u001B[38;5;241m=\u001B[39m \u001B[43mf\u001B[49m\u001B[43m(\u001B[49m\u001B[38;5;28;43mself\u001B[39;49m\u001B[43m,\u001B[49m\u001B[43m \u001B[49m\u001B[43mX\u001B[49m\u001B[43m,\u001B[49m\u001B[43m \u001B[49m\u001B[38;5;241;43m*\u001B[39;49m\u001B[43margs\u001B[49m\u001B[43m,\u001B[49m\u001B[43m \u001B[49m\u001B[38;5;241;43m*\u001B[39;49m\u001B[38;5;241;43m*\u001B[39;49m\u001B[43mkwargs\u001B[49m\u001B[43m)\u001B[49m\n\u001B[1;32m    158\u001B[0m     \u001B[38;5;28;01mif\u001B[39;00m \u001B[38;5;28misinstance\u001B[39m(data_to_wrap, \u001B[38;5;28mtuple\u001B[39m):\n\u001B[1;32m    159\u001B[0m         \u001B[38;5;66;03m# only wrap the first output for cross decomposition\u001B[39;00m\n\u001B[1;32m    160\u001B[0m         return_tuple \u001B[38;5;241m=\u001B[39m (\n\u001B[1;32m    161\u001B[0m             _wrap_data_with_container(method, data_to_wrap[\u001B[38;5;241m0\u001B[39m], X, \u001B[38;5;28mself\u001B[39m),\n\u001B[1;32m    162\u001B[0m             \u001B[38;5;241m*\u001B[39mdata_to_wrap[\u001B[38;5;241m1\u001B[39m:],\n\u001B[1;32m    163\u001B[0m         )\n",
      "File \u001B[0;32m~/Desktop/Machine-Learning-Course/venv/lib/python3.8/site-packages/sklearn/base.py:916\u001B[0m, in \u001B[0;36mTransformerMixin.fit_transform\u001B[0;34m(self, X, y, **fit_params)\u001B[0m\n\u001B[1;32m    912\u001B[0m \u001B[38;5;66;03m# non-optimized default implementation; override when a better\u001B[39;00m\n\u001B[1;32m    913\u001B[0m \u001B[38;5;66;03m# method is possible for a given clustering algorithm\u001B[39;00m\n\u001B[1;32m    914\u001B[0m \u001B[38;5;28;01mif\u001B[39;00m y \u001B[38;5;129;01mis\u001B[39;00m \u001B[38;5;28;01mNone\u001B[39;00m:\n\u001B[1;32m    915\u001B[0m     \u001B[38;5;66;03m# fit method of arity 1 (unsupervised transformation)\u001B[39;00m\n\u001B[0;32m--> 916\u001B[0m     \u001B[38;5;28;01mreturn\u001B[39;00m \u001B[38;5;28;43mself\u001B[39;49m\u001B[38;5;241;43m.\u001B[39;49m\u001B[43mfit\u001B[49m\u001B[43m(\u001B[49m\u001B[43mX\u001B[49m\u001B[43m,\u001B[49m\u001B[43m \u001B[49m\u001B[38;5;241;43m*\u001B[39;49m\u001B[38;5;241;43m*\u001B[39;49m\u001B[43mfit_params\u001B[49m\u001B[43m)\u001B[49m\u001B[38;5;241m.\u001B[39mtransform(X)\n\u001B[1;32m    917\u001B[0m \u001B[38;5;28;01melse\u001B[39;00m:\n\u001B[1;32m    918\u001B[0m     \u001B[38;5;66;03m# fit method of arity 2 (supervised transformation)\u001B[39;00m\n\u001B[1;32m    919\u001B[0m     \u001B[38;5;28;01mreturn\u001B[39;00m \u001B[38;5;28mself\u001B[39m\u001B[38;5;241m.\u001B[39mfit(X, y, \u001B[38;5;241m*\u001B[39m\u001B[38;5;241m*\u001B[39mfit_params)\u001B[38;5;241m.\u001B[39mtransform(X)\n",
      "File \u001B[0;32m~/Desktop/Machine-Learning-Course/venv/lib/python3.8/site-packages/sklearn/base.py:1152\u001B[0m, in \u001B[0;36m_fit_context.<locals>.decorator.<locals>.wrapper\u001B[0;34m(estimator, *args, **kwargs)\u001B[0m\n\u001B[1;32m   1145\u001B[0m     estimator\u001B[38;5;241m.\u001B[39m_validate_params()\n\u001B[1;32m   1147\u001B[0m \u001B[38;5;28;01mwith\u001B[39;00m config_context(\n\u001B[1;32m   1148\u001B[0m     skip_parameter_validation\u001B[38;5;241m=\u001B[39m(\n\u001B[1;32m   1149\u001B[0m         prefer_skip_nested_validation \u001B[38;5;129;01mor\u001B[39;00m global_skip_validation\n\u001B[1;32m   1150\u001B[0m     )\n\u001B[1;32m   1151\u001B[0m ):\n\u001B[0;32m-> 1152\u001B[0m     \u001B[38;5;28;01mreturn\u001B[39;00m \u001B[43mfit_method\u001B[49m\u001B[43m(\u001B[49m\u001B[43mestimator\u001B[49m\u001B[43m,\u001B[49m\u001B[43m \u001B[49m\u001B[38;5;241;43m*\u001B[39;49m\u001B[43margs\u001B[49m\u001B[43m,\u001B[49m\u001B[43m \u001B[49m\u001B[38;5;241;43m*\u001B[39;49m\u001B[38;5;241;43m*\u001B[39;49m\u001B[43mkwargs\u001B[49m\u001B[43m)\u001B[49m\n",
      "File \u001B[0;32m~/Desktop/Machine-Learning-Course/venv/lib/python3.8/site-packages/sklearn/preprocessing/_encoders.py:1499\u001B[0m, in \u001B[0;36mOrdinalEncoder.fit\u001B[0;34m(self, X, y)\u001B[0m\n\u001B[1;32m   1492\u001B[0m     \u001B[38;5;28;01mraise\u001B[39;00m \u001B[38;5;167;01mTypeError\u001B[39;00m(\n\u001B[1;32m   1493\u001B[0m         \u001B[38;5;124m\"\u001B[39m\u001B[38;5;124munknown_value should only be set when \u001B[39m\u001B[38;5;124m\"\u001B[39m\n\u001B[1;32m   1494\u001B[0m         \u001B[38;5;124m\"\u001B[39m\u001B[38;5;124mhandle_unknown is \u001B[39m\u001B[38;5;124m'\u001B[39m\u001B[38;5;124muse_encoded_value\u001B[39m\u001B[38;5;124m'\u001B[39m\u001B[38;5;124m, \u001B[39m\u001B[38;5;124m\"\u001B[39m\n\u001B[1;32m   1495\u001B[0m         \u001B[38;5;124mf\u001B[39m\u001B[38;5;124m\"\u001B[39m\u001B[38;5;124mgot \u001B[39m\u001B[38;5;132;01m{\u001B[39;00m\u001B[38;5;28mself\u001B[39m\u001B[38;5;241m.\u001B[39munknown_value\u001B[38;5;132;01m}\u001B[39;00m\u001B[38;5;124m.\u001B[39m\u001B[38;5;124m\"\u001B[39m\n\u001B[1;32m   1496\u001B[0m     )\n\u001B[1;32m   1498\u001B[0m \u001B[38;5;66;03m# `_fit` will only raise an error when `self.handle_unknown=\"error\"`\u001B[39;00m\n\u001B[0;32m-> 1499\u001B[0m fit_results \u001B[38;5;241m=\u001B[39m \u001B[38;5;28;43mself\u001B[39;49m\u001B[38;5;241;43m.\u001B[39;49m\u001B[43m_fit\u001B[49m\u001B[43m(\u001B[49m\n\u001B[1;32m   1500\u001B[0m \u001B[43m    \u001B[49m\u001B[43mX\u001B[49m\u001B[43m,\u001B[49m\n\u001B[1;32m   1501\u001B[0m \u001B[43m    \u001B[49m\u001B[43mhandle_unknown\u001B[49m\u001B[38;5;241;43m=\u001B[39;49m\u001B[38;5;28;43mself\u001B[39;49m\u001B[38;5;241;43m.\u001B[39;49m\u001B[43mhandle_unknown\u001B[49m\u001B[43m,\u001B[49m\n\u001B[1;32m   1502\u001B[0m \u001B[43m    \u001B[49m\u001B[43mforce_all_finite\u001B[49m\u001B[38;5;241;43m=\u001B[39;49m\u001B[38;5;124;43m\"\u001B[39;49m\u001B[38;5;124;43mallow-nan\u001B[39;49m\u001B[38;5;124;43m\"\u001B[39;49m\u001B[43m,\u001B[49m\n\u001B[1;32m   1503\u001B[0m \u001B[43m    \u001B[49m\u001B[43mreturn_and_ignore_missing_for_infrequent\u001B[49m\u001B[38;5;241;43m=\u001B[39;49m\u001B[38;5;28;43;01mTrue\u001B[39;49;00m\u001B[43m,\u001B[49m\n\u001B[1;32m   1504\u001B[0m \u001B[43m\u001B[49m\u001B[43m)\u001B[49m\n\u001B[1;32m   1505\u001B[0m \u001B[38;5;28mself\u001B[39m\u001B[38;5;241m.\u001B[39m_missing_indices \u001B[38;5;241m=\u001B[39m fit_results[\u001B[38;5;124m\"\u001B[39m\u001B[38;5;124mmissing_indices\u001B[39m\u001B[38;5;124m\"\u001B[39m]\n\u001B[1;32m   1507\u001B[0m cardinalities \u001B[38;5;241m=\u001B[39m [\u001B[38;5;28mlen\u001B[39m(categories) \u001B[38;5;28;01mfor\u001B[39;00m categories \u001B[38;5;129;01min\u001B[39;00m \u001B[38;5;28mself\u001B[39m\u001B[38;5;241m.\u001B[39mcategories_]\n",
      "File \u001B[0;32m~/Desktop/Machine-Learning-Course/venv/lib/python3.8/site-packages/sklearn/preprocessing/_encoders.py:113\u001B[0m, in \u001B[0;36m_BaseEncoder._fit\u001B[0;34m(self, X, handle_unknown, force_all_finite, return_counts, return_and_ignore_missing_for_infrequent)\u001B[0m\n\u001B[1;32m    110\u001B[0m \u001B[38;5;28;01melse\u001B[39;00m:\n\u001B[1;32m    111\u001B[0m     Xi_dtype \u001B[38;5;241m=\u001B[39m Xi\u001B[38;5;241m.\u001B[39mdtype\n\u001B[0;32m--> 113\u001B[0m cats \u001B[38;5;241m=\u001B[39m \u001B[43mnp\u001B[49m\u001B[38;5;241;43m.\u001B[39;49m\u001B[43marray\u001B[49m\u001B[43m(\u001B[49m\u001B[38;5;28;43mself\u001B[39;49m\u001B[38;5;241;43m.\u001B[39;49m\u001B[43mcategories\u001B[49m\u001B[43m[\u001B[49m\u001B[43mi\u001B[49m\u001B[43m]\u001B[49m\u001B[43m,\u001B[49m\u001B[43m \u001B[49m\u001B[43mdtype\u001B[49m\u001B[38;5;241;43m=\u001B[39;49m\u001B[43mXi_dtype\u001B[49m\u001B[43m)\u001B[49m\n\u001B[1;32m    114\u001B[0m \u001B[38;5;28;01mif\u001B[39;00m (\n\u001B[1;32m    115\u001B[0m     cats\u001B[38;5;241m.\u001B[39mdtype \u001B[38;5;241m==\u001B[39m \u001B[38;5;28mobject\u001B[39m\n\u001B[1;32m    116\u001B[0m     \u001B[38;5;129;01mand\u001B[39;00m \u001B[38;5;28misinstance\u001B[39m(cats[\u001B[38;5;241m0\u001B[39m], \u001B[38;5;28mbytes\u001B[39m)\n\u001B[1;32m    117\u001B[0m     \u001B[38;5;129;01mand\u001B[39;00m Xi\u001B[38;5;241m.\u001B[39mdtype\u001B[38;5;241m.\u001B[39mkind \u001B[38;5;241m!=\u001B[39m \u001B[38;5;124m\"\u001B[39m\u001B[38;5;124mS\u001B[39m\u001B[38;5;124m\"\u001B[39m\n\u001B[1;32m    118\u001B[0m ):\n\u001B[1;32m    119\u001B[0m     msg \u001B[38;5;241m=\u001B[39m (\n\u001B[1;32m    120\u001B[0m         \u001B[38;5;124mf\u001B[39m\u001B[38;5;124m\"\u001B[39m\u001B[38;5;124mIn column \u001B[39m\u001B[38;5;132;01m{\u001B[39;00mi\u001B[38;5;132;01m}\u001B[39;00m\u001B[38;5;124m, the predefined categories have type \u001B[39m\u001B[38;5;124m'\u001B[39m\u001B[38;5;124mbytes\u001B[39m\u001B[38;5;124m'\u001B[39m\u001B[38;5;124m\"\u001B[39m\n\u001B[1;32m    121\u001B[0m         \u001B[38;5;124m\"\u001B[39m\u001B[38;5;124m which is incompatible with values of type\u001B[39m\u001B[38;5;124m\"\u001B[39m\n\u001B[1;32m    122\u001B[0m         \u001B[38;5;124mf\u001B[39m\u001B[38;5;124m\"\u001B[39m\u001B[38;5;124m \u001B[39m\u001B[38;5;124m'\u001B[39m\u001B[38;5;132;01m{\u001B[39;00m\u001B[38;5;28mtype\u001B[39m(Xi[\u001B[38;5;241m0\u001B[39m])\u001B[38;5;241m.\u001B[39m\u001B[38;5;18m__name__\u001B[39m\u001B[38;5;132;01m}\u001B[39;00m\u001B[38;5;124m'\u001B[39m\u001B[38;5;124m.\u001B[39m\u001B[38;5;124m\"\u001B[39m\n\u001B[1;32m    123\u001B[0m     )\n",
      "\u001B[0;31mValueError\u001B[0m: invalid literal for int() with base 10: 'bad'"
     ]
    }
   ],
   "source": [
    "oe_rank = OrdinalEncoder(categories=[['bad', 'medium', 'good', 'perfect']])\n",
    "oe_rank.fit_transform(playground[['rank']])"
   ],
   "metadata": {
    "collapsed": false,
    "ExecuteTime": {
     "end_time": "2023-11-26T10:53:06.293463Z",
     "start_time": "2023-11-26T10:53:06.195377Z"
    }
   }
  },
  {
   "cell_type": "code",
   "execution_count": 52,
   "outputs": [],
   "source": [
    "ohe_country = OneHotEncoder()\n",
    "temp = ohe_country.fit_transform(playground[['country']]).toarray()\n",
    "names = ohe_country.get_feature_names_out()\n",
    "playground[list(names)] = temp"
   ],
   "metadata": {
    "collapsed": false,
    "ExecuteTime": {
     "end_time": "2023-11-26T10:54:18.904121Z",
     "start_time": "2023-11-26T10:54:18.854038Z"
    }
   }
  },
  {
   "cell_type": "code",
   "execution_count": 53,
   "outputs": [
    {
     "name": "stdout",
     "output_type": "stream",
     "text": [
      "<class 'pandas.core.frame.DataFrame'>\n",
      "Index: 9990 entries, 0 to 9999\n",
      "Data columns (total 14 columns):\n",
      " #   Column           Non-Null Count  Dtype  \n",
      "---  ------           --------------  -----  \n",
      " 0   age              9990 non-null   float64\n",
      " 1   length_screw     9990 non-null   float64\n",
      " 2   diameter         9990 non-null   float64\n",
      " 3   hammer_strength  9990 non-null   float64\n",
      " 4   rank             9990 non-null   int64  \n",
      " 5   size             9990 non-null   int64  \n",
      " 6   country          9990 non-null   object \n",
      " 7   country_Austria  9990 non-null   float64\n",
      " 8   country_Canada   9990 non-null   float64\n",
      " 9   country_Denmark  9990 non-null   float64\n",
      " 10  country_France   9990 non-null   float64\n",
      " 11  country_Germany  9990 non-null   float64\n",
      " 12  country_Italy    9990 non-null   float64\n",
      " 13  country_Spain    9990 non-null   float64\n",
      "dtypes: float64(11), int64(2), object(1)\n",
      "memory usage: 1.1+ MB\n"
     ]
    }
   ],
   "source": [
    "playground.info()"
   ],
   "metadata": {
    "collapsed": false,
    "ExecuteTime": {
     "end_time": "2023-11-26T10:54:25.766129Z",
     "start_time": "2023-11-26T10:54:25.718893Z"
    }
   }
  },
  {
   "cell_type": "markdown",
   "source": [
    "### Binning Data\n",
    "The process of converting a continuous feature into discrete values. Helps to reduce effect of outliers and learning using few samples.\n",
    "\n",
    "The feature age is numerical and continuous nominal. We apply different strategy for binning."
   ],
   "metadata": {
    "collapsed": false
   }
  },
  {
   "cell_type": "code",
   "execution_count": 54,
   "outputs": [],
   "source": [
    "binner1 = KBinsDiscretizer(n_bins=10, strategy='uniform', encode='ordinal')\n",
    "binner2 = KBinsDiscretizer(n_bins=10, strategy='quantile', encode='ordinal')\n",
    "binner3 = KBinsDiscretizer(n_bins=10, strategy='kmeans', encode='ordinal')"
   ],
   "metadata": {
    "collapsed": false,
    "ExecuteTime": {
     "end_time": "2023-11-26T10:57:35.300835Z",
     "start_time": "2023-11-26T10:57:35.244235Z"
    }
   }
  },
  {
   "cell_type": "code",
   "execution_count": 55,
   "outputs": [
    {
     "name": "stderr",
     "output_type": "stream",
     "text": [
      "/Users/alex_k/Desktop/Machine-Learning-Course/venv/lib/python3.8/site-packages/sklearn/preprocessing/_discretization.py:248: FutureWarning: In version 1.5 onwards, subsample=200_000 will be used by default. Set subsample explicitly to silence this warning in the mean time. Set subsample=None to disable subsampling explicitly.\n",
      "  warnings.warn(\n"
     ]
    },
    {
     "data": {
      "text/plain": "array([[<Axes: title={'center': '0'}>]], dtype=object)"
     },
     "execution_count": 55,
     "metadata": {},
     "output_type": "execute_result"
    },
    {
     "data": {
      "text/plain": "<Figure size 640x480 with 1 Axes>",
      "image/png": "[encoded data removed]"
     },
     "metadata": {},
     "output_type": "display_data"
    }
   ],
   "source": [
    "pd.DataFrame(binner1.fit_transform(playground[['diameter']])).hist()"
   ],
   "metadata": {
    "collapsed": false,
    "ExecuteTime": {
     "end_time": "2023-11-26T10:58:09.038056Z",
     "start_time": "2023-11-26T10:58:07.558668Z"
    }
   }
  },
  {
   "cell_type": "code",
   "execution_count": 56,
   "outputs": [
    {
     "data": {
      "text/plain": "array([[<Axes: title={'center': '0'}>]], dtype=object)"
     },
     "execution_count": 56,
     "metadata": {},
     "output_type": "execute_result"
    },
    {
     "data": {
      "text/plain": "<Figure size 640x480 with 1 Axes>",
      "image/png": "[encoded data removed]"
     },
     "metadata": {},
     "output_type": "display_data"
    }
   ],
   "source": [
    "pd.DataFrame(binner2.fit_transform(playground[['diameter']])).hist()"
   ],
   "metadata": {
    "collapsed": false,
    "ExecuteTime": {
     "end_time": "2023-11-26T10:58:40.893184Z",
     "start_time": "2023-11-26T10:58:40.628592Z"
    }
   }
  },
  {
   "cell_type": "code",
   "execution_count": 57,
   "outputs": [
    {
     "name": "stderr",
     "output_type": "stream",
     "text": [
      "/Users/alex_k/Desktop/Machine-Learning-Course/venv/lib/python3.8/site-packages/sklearn/preprocessing/_discretization.py:248: FutureWarning: In version 1.5 onwards, subsample=200_000 will be used by default. Set subsample explicitly to silence this warning in the mean time. Set subsample=None to disable subsampling explicitly.\n",
      "  warnings.warn(\n",
      "/Users/alex_k/Desktop/Machine-Learning-Course/venv/lib/python3.8/site-packages/threadpoolctl.py:1019: RuntimeWarning: libc not found. The ctypes module in Python 3.8 is maybe too old for this OS.\n",
      "  warnings.warn(\n"
     ]
    },
    {
     "data": {
      "text/plain": "array([[<Axes: title={'center': '0'}>]], dtype=object)"
     },
     "execution_count": 57,
     "metadata": {},
     "output_type": "execute_result"
    },
    {
     "data": {
      "text/plain": "<Figure size 640x480 with 1 Axes>",
      "image/png": "[encoded data removed]"
     },
     "metadata": {},
     "output_type": "display_data"
    }
   ],
   "source": [
    "pd.DataFrame(binner3.fit_transform(playground[['diameter']])).hist()"
   ],
   "metadata": {
    "collapsed": false,
    "ExecuteTime": {
     "end_time": "2023-11-26T10:58:48.800020Z",
     "start_time": "2023-11-26T10:58:46.187171Z"
    }
   }
  },
  {
   "cell_type": "markdown",
   "source": [
    "### Feature scaling\n",
    "We apply a min-max scaling to the feature age."
   ],
   "metadata": {
    "collapsed": false
   }
  },
  {
   "cell_type": "code",
   "execution_count": 58,
   "outputs": [
    {
     "data": {
      "text/plain": "array([[0.3625],\n       [0.025 ],\n       [0.675 ],\n       ...,\n       [0.1625],\n       [0.1875],\n       [0.725 ]])"
     },
     "execution_count": 58,
     "metadata": {},
     "output_type": "execute_result"
    }
   ],
   "source": [
    "mm_scaler = MinMaxScaler()\n",
    "mm_scaler.fit_transform(playground[['age']])"
   ],
   "metadata": {
    "collapsed": false,
    "ExecuteTime": {
     "end_time": "2023-11-26T10:59:52.273040Z",
     "start_time": "2023-11-26T10:59:52.220019Z"
    }
   }
  },
  {
   "cell_type": "markdown",
   "source": [
    "We apply a standardization to the features length_screw, diameter, hammer_strength."
   ],
   "metadata": {
    "collapsed": false
   }
  },
  {
   "cell_type": "code",
   "execution_count": 59,
   "outputs": [
    {
     "data": {
      "text/plain": "array([[ 0.48064018,  0.38789898,  0.31349256],\n       [-1.53966089, -1.71031482, -1.80210112],\n       [ 0.5378606 , -0.56908024, -0.48523749],\n       ...,\n       [-1.11501183, -0.8439075 , -0.97529103],\n       [ 0.17211597, -0.95371625, -0.98247117],\n       [-0.07080558,  0.51831827,  0.40172249]])"
     },
     "execution_count": 59,
     "metadata": {},
     "output_type": "execute_result"
    }
   ],
   "source": [
    "sscaler = StandardScaler()\n",
    "sscaler.fit_transform(playground[['length_screw', 'diameter', 'hammer_strength']])"
   ],
   "metadata": {
    "collapsed": false,
    "ExecuteTime": {
     "end_time": "2023-11-26T11:01:10.058388Z",
     "start_time": "2023-11-26T11:01:10.000090Z"
    }
   }
  },
  {
   "cell_type": "code",
   "execution_count": 60,
   "outputs": [
    {
     "data": {
      "text/plain": "    age  length_screw   diameter  hammer_strength  rank  size  country  \\\n0  47.0     39.537837  17.053504        46.389102     1     2  Denmark   \n1  20.0     -1.034592 -67.283321      -167.451060     2     4  Denmark   \n2  72.0     40.686959 -21.411874       -34.345003     1     2  Austria   \n3  23.0     60.179331  39.712469       118.023664     3     3  Austria   \n4  93.0      2.862281  33.059898        99.476390     3     3  Germany   \n\n   country_Austria  country_Canada  country_Denmark  country_France  \\\n0              0.0             0.0              1.0             0.0   \n1              0.0             0.0              1.0             0.0   \n2              1.0             0.0              0.0             0.0   \n3              1.0             0.0              0.0             0.0   \n4              0.0             0.0              0.0             0.0   \n\n   country_Germany  country_Italy  country_Spain  \n0              0.0            0.0            0.0  \n1              0.0            0.0            0.0  \n2              0.0            0.0            0.0  \n3              0.0            0.0            0.0  \n4              1.0            0.0            0.0  ",
      "text/html": "<div>\n<style scoped>\n    .dataframe tbody tr th:only-of-type {\n        vertical-align: middle;\n    }\n\n    .dataframe tbody tr th {\n        vertical-align: top;\n    }\n\n    .dataframe thead th {\n        text-align: right;\n    }\n</style>\n<table border=\"1\" class=\"dataframe\">\n  <thead>\n    <tr style=\"text-align: right;\">\n      <th></th>\n      <th>age</th>\n      <th>length_screw</th>\n      <th>diameter</th>\n      <th>hammer_strength</th>\n      <th>rank</th>\n      <th>size</th>\n      <th>country</th>\n      <th>country_Austria</th>\n      <th>country_Canada</th>\n      <th>country_Denmark</th>\n      <th>country_France</th>\n      <th>country_Germany</th>\n      <th>country_Italy</th>\n      <th>country_Spain</th>\n    </tr>\n  </thead>\n  <tbody>\n    <tr>\n      <th>0</th>\n      <td>47.0</td>\n      <td>39.537837</td>\n      <td>17.053504</td>\n      <td>46.389102</td>\n      <td>1</td>\n      <td>2</td>\n      <td>Denmark</td>\n      <td>0.0</td>\n      <td>0.0</td>\n      <td>1.0</td>\n      <td>0.0</td>\n      <td>0.0</td>\n      <td>0.0</td>\n      <td>0.0</td>\n    </tr>\n    <tr>\n      <th>1</th>\n      <td>20.0</td>\n      <td>-1.034592</td>\n      <td>-67.283321</td>\n      <td>-167.451060</td>\n      <td>2</td>\n      <td>4</td>\n      <td>Denmark</td>\n      <td>0.0</td>\n      <td>0.0</td>\n      <td>1.0</td>\n      <td>0.0</td>\n      <td>0.0</td>\n      <td>0.0</td>\n      <td>0.0</td>\n    </tr>\n    <tr>\n      <th>2</th>\n      <td>72.0</td>\n      <td>40.686959</td>\n      <td>-21.411874</td>\n      <td>-34.345003</td>\n      <td>1</td>\n      <td>2</td>\n      <td>Austria</td>\n      <td>1.0</td>\n      <td>0.0</td>\n      <td>0.0</td>\n      <td>0.0</td>\n      <td>0.0</td>\n      <td>0.0</td>\n      <td>0.0</td>\n    </tr>\n    <tr>\n      <th>3</th>\n      <td>23.0</td>\n      <td>60.179331</td>\n      <td>39.712469</td>\n      <td>118.023664</td>\n      <td>3</td>\n      <td>3</td>\n      <td>Austria</td>\n      <td>1.0</td>\n      <td>0.0</td>\n      <td>0.0</td>\n      <td>0.0</td>\n      <td>0.0</td>\n      <td>0.0</td>\n      <td>0.0</td>\n    </tr>\n    <tr>\n      <th>4</th>\n      <td>93.0</td>\n      <td>2.862281</td>\n      <td>33.059898</td>\n      <td>99.476390</td>\n      <td>3</td>\n      <td>3</td>\n      <td>Germany</td>\n      <td>0.0</td>\n      <td>0.0</td>\n      <td>0.0</td>\n      <td>0.0</td>\n      <td>1.0</td>\n      <td>0.0</td>\n      <td>0.0</td>\n    </tr>\n  </tbody>\n</table>\n</div>"
     },
     "execution_count": 60,
     "metadata": {},
     "output_type": "execute_result"
    }
   ],
   "source": [
    "playground.head()"
   ],
   "metadata": {
    "collapsed": false,
    "ExecuteTime": {
     "end_time": "2023-11-26T11:02:50.533745Z",
     "start_time": "2023-11-26T11:02:50.468332Z"
    }
   }
  },
  {
   "cell_type": "markdown",
   "source": [
    "### Pipeline\n",
    "In this case, we have to implement two pipelines composed of two transformers.\n",
    "We define the first pipeline composed by SimpleIMputer with strategy 'mean' and StandardScaler"
   ],
   "metadata": {
    "collapsed": false
   }
  },
  {
   "cell_type": "code",
   "execution_count": 61,
   "outputs": [
    {
     "data": {
      "text/plain": "array([[ 0.48064018,  0.31349256],\n       [-1.53966089, -1.80210112],\n       [ 0.5378606 , -0.48523749],\n       ...,\n       [-1.11501183, -0.97529103],\n       [ 0.17211597, -0.98247117],\n       [-0.07080558,  0.40172249]])"
     },
     "execution_count": 61,
     "metadata": {},
     "output_type": "execute_result"
    }
   ],
   "source": [
    "imp_scaler = Pipeline(\n",
    "    [\n",
    "        ('pipe1_si', SimpleImputer(strategy='mean')),\n",
    "        ('pipe1_scaler', StandardScaler())\n",
    "    ]\n",
    ")\n",
    "imp_scaler.fit_transform(playground[['length_screw', 'hammer_strength']])"
   ],
   "metadata": {
    "collapsed": false,
    "ExecuteTime": {
     "end_time": "2023-11-26T11:05:44.566459Z",
     "start_time": "2023-11-26T11:05:44.500903Z"
    }
   }
  },
  {
   "cell_type": "markdown",
   "source": [
    "Now we define the second and third pipelines composed in this way:\n",
    "- Pipeline 2: SimpleImputer sith strategy 'most_frequent', OrdinalEncoder for size with categories S, M, L, XL, XXL\n",
    "- Pipeline 3: OrdinalEncoder with categories bad, medium, good, perfect and MinMaxScaler"
   ],
   "metadata": {
    "collapsed": false
   }
  },
  {
   "cell_type": "code",
   "execution_count": 62,
   "outputs": [],
   "source": [
    "imp_ordinal = Pipeline(\n",
    "    [\n",
    "        ('pipe2_si', SimpleImputer(strategy='most_frequent')),\n",
    "        ('pipe2_ordinal', OrdinalEncoder(categories=[['S', 'M', 'L', 'XL', 'XXL']])),\n",
    "        ('pipe2_mm', MinMaxScaler())\n",
    "    ]\n",
    ")\n",
    "\n",
    "imp_ordinal2 = Pipeline(\n",
    "    [\n",
    "        ('pipe3_ordinal', OrdinalEncoder(categories=[['bad', 'medium', 'good', 'perfect']])),\n",
    "        ('pipe3_mm', MinMaxScaler())\n",
    "    ]\n",
    ")"
   ],
   "metadata": {
    "collapsed": false,
    "ExecuteTime": {
     "end_time": "2023-11-26T11:09:35.552270Z",
     "start_time": "2023-11-26T11:09:35.487176Z"
    }
   }
  },
  {
   "cell_type": "markdown",
   "source": [
    "Once we defined the pipelines, we have all the transformers-ingredients-to build a ColumnTransformer to apply to our dataset."
   ],
   "metadata": {
    "collapsed": false
   }
  },
  {
   "cell_type": "markdown",
   "source": [
    "### ColumnTransformer\n",
    "We implement the ColumnTransformer."
   ],
   "metadata": {
    "collapsed": false
   }
  },
  {
   "cell_type": "code",
   "execution_count": 73,
   "outputs": [
    {
     "data": {
      "text/plain": "       age  length_screw   diameter  hammer_strength     rank size  country\n0     47.0     39.537837  17.053504        46.389102   medium    L  Denmark\n1     20.0     -1.034592 -67.283321      -167.451060     good  XXL  Denmark\n2     72.0     40.686959 -21.411874       -34.345003   medium    L  Austria\n3     23.0     60.179331  39.712469       118.023664  perfect   XL  Austria\n4     93.0      2.862281  33.059898        99.476390  perfect   XL  Germany\n...    ...           ...        ...              ...      ...  ...      ...\n9995  80.0     29.688847  -8.900835       -15.037037     good  XXL  Denmark\n9996  35.0     23.757652  54.140757       124.841787   medium    L  Germany\n9997  31.0      7.493367 -32.458441       -83.878678  perfect    L   France\n9998  33.0     33.341941 -36.872158       -84.604433     good    M  Austria\n9999  76.0     28.463501  22.295653        55.307215  perfect  XXL    Italy\n\n[9990 rows x 7 columns]",
      "text/html": "<div>\n<style scoped>\n    .dataframe tbody tr th:only-of-type {\n        vertical-align: middle;\n    }\n\n    .dataframe tbody tr th {\n        vertical-align: top;\n    }\n\n    .dataframe thead th {\n        text-align: right;\n    }\n</style>\n<table border=\"1\" class=\"dataframe\">\n  <thead>\n    <tr style=\"text-align: right;\">\n      <th></th>\n      <th>age</th>\n      <th>length_screw</th>\n      <th>diameter</th>\n      <th>hammer_strength</th>\n      <th>rank</th>\n      <th>size</th>\n      <th>country</th>\n    </tr>\n  </thead>\n  <tbody>\n    <tr>\n      <th>0</th>\n      <td>47.0</td>\n      <td>39.537837</td>\n      <td>17.053504</td>\n      <td>46.389102</td>\n      <td>medium</td>\n      <td>L</td>\n      <td>Denmark</td>\n    </tr>\n    <tr>\n      <th>1</th>\n      <td>20.0</td>\n      <td>-1.034592</td>\n      <td>-67.283321</td>\n      <td>-167.451060</td>\n      <td>good</td>\n      <td>XXL</td>\n      <td>Denmark</td>\n    </tr>\n    <tr>\n      <th>2</th>\n      <td>72.0</td>\n      <td>40.686959</td>\n      <td>-21.411874</td>\n      <td>-34.345003</td>\n      <td>medium</td>\n      <td>L</td>\n      <td>Austria</td>\n    </tr>\n    <tr>\n      <th>3</th>\n      <td>23.0</td>\n      <td>60.179331</td>\n      <td>39.712469</td>\n      <td>118.023664</td>\n      <td>perfect</td>\n      <td>XL</td>\n      <td>Austria</td>\n    </tr>\n    <tr>\n      <th>4</th>\n      <td>93.0</td>\n      <td>2.862281</td>\n      <td>33.059898</td>\n      <td>99.476390</td>\n      <td>perfect</td>\n      <td>XL</td>\n      <td>Germany</td>\n    </tr>\n    <tr>\n      <th>...</th>\n      <td>...</td>\n      <td>...</td>\n      <td>...</td>\n      <td>...</td>\n      <td>...</td>\n      <td>...</td>\n      <td>...</td>\n    </tr>\n    <tr>\n      <th>9995</th>\n      <td>80.0</td>\n      <td>29.688847</td>\n      <td>-8.900835</td>\n      <td>-15.037037</td>\n      <td>good</td>\n      <td>XXL</td>\n      <td>Denmark</td>\n    </tr>\n    <tr>\n      <th>9996</th>\n      <td>35.0</td>\n      <td>23.757652</td>\n      <td>54.140757</td>\n      <td>124.841787</td>\n      <td>medium</td>\n      <td>L</td>\n      <td>Germany</td>\n    </tr>\n    <tr>\n      <th>9997</th>\n      <td>31.0</td>\n      <td>7.493367</td>\n      <td>-32.458441</td>\n      <td>-83.878678</td>\n      <td>perfect</td>\n      <td>L</td>\n      <td>France</td>\n    </tr>\n    <tr>\n      <th>9998</th>\n      <td>33.0</td>\n      <td>33.341941</td>\n      <td>-36.872158</td>\n      <td>-84.604433</td>\n      <td>good</td>\n      <td>M</td>\n      <td>Austria</td>\n    </tr>\n    <tr>\n      <th>9999</th>\n      <td>76.0</td>\n      <td>28.463501</td>\n      <td>22.295653</td>\n      <td>55.307215</td>\n      <td>perfect</td>\n      <td>XXL</td>\n      <td>Italy</td>\n    </tr>\n  </tbody>\n</table>\n<p>9990 rows × 7 columns</p>\n</div>"
     },
     "execution_count": 73,
     "metadata": {},
     "output_type": "execute_result"
    }
   ],
   "source": [
    "playground = pd.read_csv('data/playground.csv').dropna(thresh=6000, axis=1).dropna(axis=0, how='all')\n",
    "playground"
   ],
   "metadata": {
    "collapsed": false,
    "ExecuteTime": {
     "end_time": "2023-11-26T11:18:28.200962Z",
     "start_time": "2023-11-26T11:18:28.125696Z"
    }
   }
  },
  {
   "cell_type": "code",
   "execution_count": 74,
   "outputs": [],
   "source": [
    "playground_tf = ColumnTransformer(\n",
    "    transformers=[\n",
    "        ('age', MinMaxScaler(), ['age']),\n",
    "        ('imp_std', imp_scaler, ['length_screw','hammer_strength']),\n",
    "        ('diam_std', StandardScaler(), ['diameter']),\n",
    "        ('rank', imp_ordinal2, ['rank']),\n",
    "        ('imp_ord', imp_ordinal, ['size']),\n",
    "        ('country_hot', OneHotEncoder(drop='first',categories='auto'),['country'])\n",
    "    ],\n",
    "    verbose_feature_names_out = False\n",
    ")"
   ],
   "metadata": {
    "collapsed": false,
    "ExecuteTime": {
     "end_time": "2023-11-26T11:18:28.829930Z",
     "start_time": "2023-11-26T11:18:28.815889Z"
    }
   }
  },
  {
   "cell_type": "code",
   "execution_count": 75,
   "outputs": [
    {
     "data": {
      "text/plain": "         age  length_screw  hammer_strength  diameter      rank  size  \\\n0     0.3625      0.480640         0.313493  0.387899  0.333333  0.50   \n1     0.0250     -1.539661        -1.802101 -1.710315  0.666667  1.00   \n2     0.6750      0.537861        -0.485237 -0.569080  0.333333  0.50   \n3     0.0625      1.508482         1.022198  0.951631  1.000000  0.75   \n4     0.9375     -1.345616         0.838703  0.786122  1.000000  0.75   \n...      ...           ...              ...       ...       ...   ...   \n9985  0.7750     -0.009790        -0.294217 -0.257818  0.666667  1.00   \n9986  0.2125     -0.305133         1.089652  1.310592  0.333333  0.50   \n9987  0.1625     -1.115012        -0.975291 -0.843907  1.000000  0.50   \n9988  0.1875      0.172116        -0.982471 -0.953716  0.666667  0.25   \n9989  0.7250     -0.070806         0.401722  0.518318  1.000000  1.00   \n\n      country_Canada  country_Denmark  country_France  country_Germany  \\\n0                0.0              1.0             0.0              0.0   \n1                0.0              1.0             0.0              0.0   \n2                0.0              0.0             0.0              0.0   \n3                0.0              0.0             0.0              0.0   \n4                0.0              0.0             0.0              1.0   \n...              ...              ...             ...              ...   \n9985             0.0              1.0             0.0              0.0   \n9986             0.0              0.0             0.0              1.0   \n9987             0.0              0.0             1.0              0.0   \n9988             0.0              0.0             0.0              0.0   \n9989             0.0              0.0             0.0              0.0   \n\n      country_Italy  country_Spain  \n0               0.0            0.0  \n1               0.0            0.0  \n2               0.0            0.0  \n3               0.0            0.0  \n4               0.0            0.0  \n...             ...            ...  \n9985            0.0            0.0  \n9986            0.0            0.0  \n9987            0.0            0.0  \n9988            0.0            0.0  \n9989            1.0            0.0  \n\n[9990 rows x 12 columns]",
      "text/html": "<div>\n<style scoped>\n    .dataframe tbody tr th:only-of-type {\n        vertical-align: middle;\n    }\n\n    .dataframe tbody tr th {\n        vertical-align: top;\n    }\n\n    .dataframe thead th {\n        text-align: right;\n    }\n</style>\n<table border=\"1\" class=\"dataframe\">\n  <thead>\n    <tr style=\"text-align: right;\">\n      <th></th>\n      <th>age</th>\n      <th>length_screw</th>\n      <th>hammer_strength</th>\n      <th>diameter</th>\n      <th>rank</th>\n      <th>size</th>\n      <th>country_Canada</th>\n      <th>country_Denmark</th>\n      <th>country_France</th>\n      <th>country_Germany</th>\n      <th>country_Italy</th>\n      <th>country_Spain</th>\n    </tr>\n  </thead>\n  <tbody>\n    <tr>\n      <th>0</th>\n      <td>0.3625</td>\n      <td>0.480640</td>\n      <td>0.313493</td>\n      <td>0.387899</td>\n      <td>0.333333</td>\n      <td>0.50</td>\n      <td>0.0</td>\n      <td>1.0</td>\n      <td>0.0</td>\n      <td>0.0</td>\n      <td>0.0</td>\n      <td>0.0</td>\n    </tr>\n    <tr>\n      <th>1</th>\n      <td>0.0250</td>\n      <td>-1.539661</td>\n      <td>-1.802101</td>\n      <td>-1.710315</td>\n      <td>0.666667</td>\n      <td>1.00</td>\n      <td>0.0</td>\n      <td>1.0</td>\n      <td>0.0</td>\n      <td>0.0</td>\n      <td>0.0</td>\n      <td>0.0</td>\n    </tr>\n    <tr>\n      <th>2</th>\n      <td>0.6750</td>\n      <td>0.537861</td>\n      <td>-0.485237</td>\n      <td>-0.569080</td>\n      <td>0.333333</td>\n      <td>0.50</td>\n      <td>0.0</td>\n      <td>0.0</td>\n      <td>0.0</td>\n      <td>0.0</td>\n      <td>0.0</td>\n      <td>0.0</td>\n    </tr>\n    <tr>\n      <th>3</th>\n      <td>0.0625</td>\n      <td>1.508482</td>\n      <td>1.022198</td>\n      <td>0.951631</td>\n      <td>1.000000</td>\n      <td>0.75</td>\n      <td>0.0</td>\n      <td>0.0</td>\n      <td>0.0</td>\n      <td>0.0</td>\n      <td>0.0</td>\n      <td>0.0</td>\n    </tr>\n    <tr>\n      <th>4</th>\n      <td>0.9375</td>\n      <td>-1.345616</td>\n      <td>0.838703</td>\n      <td>0.786122</td>\n      <td>1.000000</td>\n      <td>0.75</td>\n      <td>0.0</td>\n      <td>0.0</td>\n      <td>0.0</td>\n      <td>1.0</td>\n      <td>0.0</td>\n      <td>0.0</td>\n    </tr>\n    <tr>\n      <th>...</th>\n      <td>...</td>\n      <td>...</td>\n      <td>...</td>\n      <td>...</td>\n      <td>...</td>\n      <td>...</td>\n      <td>...</td>\n      <td>...</td>\n      <td>...</td>\n      <td>...</td>\n      <td>...</td>\n      <td>...</td>\n    </tr>\n    <tr>\n      <th>9985</th>\n      <td>0.7750</td>\n      <td>-0.009790</td>\n      <td>-0.294217</td>\n      <td>-0.257818</td>\n      <td>0.666667</td>\n      <td>1.00</td>\n      <td>0.0</td>\n      <td>1.0</td>\n      <td>0.0</td>\n      <td>0.0</td>\n      <td>0.0</td>\n      <td>0.0</td>\n    </tr>\n    <tr>\n      <th>9986</th>\n      <td>0.2125</td>\n      <td>-0.305133</td>\n      <td>1.089652</td>\n      <td>1.310592</td>\n      <td>0.333333</td>\n      <td>0.50</td>\n      <td>0.0</td>\n      <td>0.0</td>\n      <td>0.0</td>\n      <td>1.0</td>\n      <td>0.0</td>\n      <td>0.0</td>\n    </tr>\n    <tr>\n      <th>9987</th>\n      <td>0.1625</td>\n      <td>-1.115012</td>\n      <td>-0.975291</td>\n      <td>-0.843907</td>\n      <td>1.000000</td>\n      <td>0.50</td>\n      <td>0.0</td>\n      <td>0.0</td>\n      <td>1.0</td>\n      <td>0.0</td>\n      <td>0.0</td>\n      <td>0.0</td>\n    </tr>\n    <tr>\n      <th>9988</th>\n      <td>0.1875</td>\n      <td>0.172116</td>\n      <td>-0.982471</td>\n      <td>-0.953716</td>\n      <td>0.666667</td>\n      <td>0.25</td>\n      <td>0.0</td>\n      <td>0.0</td>\n      <td>0.0</td>\n      <td>0.0</td>\n      <td>0.0</td>\n      <td>0.0</td>\n    </tr>\n    <tr>\n      <th>9989</th>\n      <td>0.7250</td>\n      <td>-0.070806</td>\n      <td>0.401722</td>\n      <td>0.518318</td>\n      <td>1.000000</td>\n      <td>1.00</td>\n      <td>0.0</td>\n      <td>0.0</td>\n      <td>0.0</td>\n      <td>0.0</td>\n      <td>1.0</td>\n      <td>0.0</td>\n    </tr>\n  </tbody>\n</table>\n<p>9990 rows × 12 columns</p>\n</div>"
     },
     "execution_count": 75,
     "metadata": {},
     "output_type": "execute_result"
    }
   ],
   "source": [
    "playground_tf.fit(playground)\n",
    "new_playground = pd.DataFrame(playground_tf.transform(playground), columns=playground_tf.get_feature_names_out())\n",
    "new_playground"
   ],
   "metadata": {
    "collapsed": false,
    "ExecuteTime": {
     "end_time": "2023-11-26T11:18:31.084524Z",
     "start_time": "2023-11-26T11:18:30.976624Z"
    }
   }
  },
  {
   "cell_type": "code",
   "execution_count": 76,
   "outputs": [
    {
     "name": "stdout",
     "output_type": "stream",
     "text": [
      "<class 'pandas.core.frame.DataFrame'>\n",
      "RangeIndex: 9990 entries, 0 to 9989\n",
      "Data columns (total 12 columns):\n",
      " #   Column           Non-Null Count  Dtype  \n",
      "---  ------           --------------  -----  \n",
      " 0   age              9990 non-null   float64\n",
      " 1   length_screw     9990 non-null   float64\n",
      " 2   hammer_strength  9990 non-null   float64\n",
      " 3   diameter         9990 non-null   float64\n",
      " 4   rank             9990 non-null   float64\n",
      " 5   size             9990 non-null   float64\n",
      " 6   country_Canada   9990 non-null   float64\n",
      " 7   country_Denmark  9990 non-null   float64\n",
      " 8   country_France   9990 non-null   float64\n",
      " 9   country_Germany  9990 non-null   float64\n",
      " 10  country_Italy    9990 non-null   float64\n",
      " 11  country_Spain    9990 non-null   float64\n",
      "dtypes: float64(12)\n",
      "memory usage: 936.7 KB\n"
     ]
    }
   ],
   "source": [
    "new_playground.info()"
   ],
   "metadata": {
    "collapsed": false,
    "ExecuteTime": {
     "end_time": "2023-11-26T11:18:41.041342Z",
     "start_time": "2023-11-26T11:18:40.974337Z"
    }
   }
  },
  {
   "cell_type": "code",
   "execution_count": 77,
   "outputs": [
    {
     "data": {
      "text/plain": "(9990, 12)"
     },
     "execution_count": 77,
     "metadata": {},
     "output_type": "execute_result"
    }
   ],
   "source": [
    "new_playground.shape"
   ],
   "metadata": {
    "collapsed": false,
    "ExecuteTime": {
     "end_time": "2023-11-26T11:18:51.770665Z",
     "start_time": "2023-11-26T11:18:51.711164Z"
    }
   }
  }
 ],
 "metadata": {
  "kernelspec": {
   "display_name": "Python 3",
   "language": "python",
   "name": "python3"
  },
  "language_info": {
   "codemirror_mode": {
    "name": "ipython",
    "version": 2
   },
   "file_extension": ".py",
   "mimetype": "text/x-python",
   "name": "python",
   "nbconvert_exporter": "python",
   "pygments_lexer": "ipython2",
   "version": "2.7.6"
  }
 },
 "nbformat": 4,
 "nbformat_minor": 0
}
